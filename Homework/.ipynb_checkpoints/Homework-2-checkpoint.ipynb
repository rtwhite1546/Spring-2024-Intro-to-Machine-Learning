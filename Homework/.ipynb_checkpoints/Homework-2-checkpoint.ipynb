{
 "cells": [
  {
   "cell_type": "markdown",
   "id": "2c8ab292-266f-4722-848f-1109966685d0",
   "metadata": {},
   "source": [
    "# MTH 4224 / CSE 4224 - Homework 1\n",
    "\n",
    "**Deadline**: Jan 27, 2024\n",
    "\n",
    "**Points**: 35\n",
    "\n",
    "**Note**: I did give some hints, but I did not teach about every built-in function you're going to need to use. This will *always* be the situation in real life. Be resourceful, read the documentation, Google your errors.\n",
    "\n",
    "**Academic Honesty**: Write your code from scratch. Learn from the Internet, talk to classmates or friends, ask me questions, but don't just copy blocks of code. Every submission we grade should be unique.\n",
    "\n",
    "### Instructions\n",
    "\n",
    "Submit **one** Python notebook file for grading. Your file must include **mathematical work** (type it or insert pictures of your handwritten work), **text explanations** of your work, **well-commented code**, and the **outputs** from your code.\n",
    "\n",
    "### Problems\n",
    "\n",
    "1. Ridge regression is a modified version of linear regression that penelizes the coefficients for being large. It accomplishes this by adding a so-called $L^2$ penalty term to the loss function (e.g. mean squared error): $L(\\theta)=\\frac{1}{n}\\sum\\limits_{i=1}^n \\left(\\hat{f}(x_i)-y_i\\right)^2 + \\lambda\\sum\\limits_{i=1}^d \\theta_i^2$\n",
    "\n",
    "    where $\\lambda>0$ is a **hyperparameter** that must be tuned by the user. An appropriate choice of $\\lambda$ can often help with learning datasets where the input features are highly correlated or it can help with an overfitting problem.\n",
    "\n",
    "    a. **[5 points]** Write each part of $L(\\theta)$ in matrix-vector form where $\\hat{f}$ is a LBF expansion regression model. Define each matrix and vector separately by writing their elements with subscripts, and state their dimensions.\n",
    "\n",
    "    b. **[5 points]** Solve the following optimization problem by hand for the loss function $L$ above $\\min\\limits_{\\theta\\in\\mathbb{R}^{d+1}} L(\\theta)$\n",
    "\n",
    "    c. **[5 points]** Write a Python class for this ridge LBF expansion regression model with a `fit` function applying the formula from part (b) to compute the parameters $\\theta$ and a `predict` function to make predictions for input data after the model has been fit.\n",
    "\n",
    "2. Use the details about houses in a real estate dataset and attempt to predict the list price for the houses. Use the [Mount Pleasant Real Estate dataset](https://www.hawkeslearning.com/Statistics/dis/datasets.html).\n",
    "\n",
    "    a. **[5 points]** Read the dataset into Python and preprocess data excluding the \"Misc Exterior\" and \"Amenities\" columns into an appropriate data matrix for regression analysis. Randomly split the data into a training set, validation set, and test set at 60\\%/20\\%/20\\%.\n",
    "\n",
    "    b. **[5 points]** Fit the least squares hyperplane to the training set to predict house prices, and evaluate its fit on the validation set.\n",
    "    \n",
    "    c. **[5 points]** Fit a ridge regression to the training set to predict house prices, and evaluate its fit on the validation set. Repeat this for several different values of $\\lambda$.\n",
    "     \n",
    "    d. **[5 points]** Fit an LBF expansion of your choice to the training set to predict house prices, and evaluate its fit on the validation set. Repeat this for several different values of $\\lambda$\n",
    "\n",
    "Document all experiments and conclude which experiment works best based on an appropriate train/validation/test split. Report your best test-set MAE at the end of your submission.\n",
    "\n",
    "**The best three models in the class as evaluated once on the test set will earn +5 bonus points. (You must turn in your work on time, appropriate train/val/test split, and report your best MAE at the bottom of your report to be eligible.)**"
   ]
  }
 ],
 "metadata": {
  "kernelspec": {
   "display_name": "Python 3 (ipykernel)",
   "language": "python",
   "name": "python3"
  },
  "language_info": {
   "codemirror_mode": {
    "name": "ipython",
    "version": 3
   },
   "file_extension": ".py",
   "mimetype": "text/x-python",
   "name": "python",
   "nbconvert_exporter": "python",
   "pygments_lexer": "ipython3",
   "version": "3.10.9"
  }
 },
 "nbformat": 4,
 "nbformat_minor": 5
}
