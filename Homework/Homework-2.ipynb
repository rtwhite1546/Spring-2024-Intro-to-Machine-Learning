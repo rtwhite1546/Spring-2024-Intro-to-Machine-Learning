{
 "cells": [
  {
   "cell_type": "markdown",
   "id": "2c8ab292-266f-4722-848f-1109966685d0",
   "metadata": {},
   "source": [
    "# MTH 4224 / CSE 4224 - Homework 2\n",
    "\n",
    "**Deadline**: Feb 18, 2024\n",
    "\n",
    "**Points**: 35\n",
    "\n",
    "**Note**: I did give some hints, but I did not teach about every built-in function you're going to need to use. This will *always* be the situation in real life. Be resourceful, read the documentation, Google your errors.\n",
    "\n",
    "**Academic Honesty**: Write your code from scratch. Learn from the Internet, talk to classmates or friends, ask me questions, but don't just copy blocks of code. Every submission we grade should be unique.\n",
    "\n",
    "### Instructions\n",
    "\n",
    "Submit **one** Python notebook file for grading. Your file must include **mathematical work** (type it or insert pictures of your handwritten work), **text explanations** of your work, **well-commented code**, and the **outputs** from your code.\n",
    "\n",
    "### Problems\n",
    "\n",
    "1. A common type of linear basis expansion is cubic splines. (See pages 141-146 in _Elements of Statistical Learning_.) Parts of this problem use the [Italian Air Quality Dataset](https://archive.ics.uci.edu/dataset/360/air+quality), which has hourly data from 3/10/2004 to 4/4/2005 on numerous measures of air pollution.\n",
    "\n",
    "    a. **[5 points]** _Elements of Statistical Learning_ exercise 5.1\n",
    "        \n",
    "    b. **[5 points]** Load the Italian Air Quality Dataset into Python. Remove any columns with more than 10\\% missing data (-200 = missing). Convert it into a dataset of non-overlapping time-series corresponding to 24 hours of readings.\n",
    "    \n",
    "    c. **[5 points]** Suppose there's a new sensor that makes the same readings but can only make readings 4 times per day. The new sensor is much cheaper, so we are interested in whether we can use the new sensors and use a cubic spline model to fill in the readings for PT08.S1 (CO) in the remaining hours using cubic splines with 4 knots placed at whatever daily times you choose.\n",
    "    \n",
    "[**_Hint._** The 4 readings used at the knot times are the inputs while the remaining 20 hours are the outputs.]\n",
    "\n",
    "2. The file `data/aneurysm.npy` contains $(x, y, z)$ coordinates for a sparse point cloud of points on the boundy of the geometry of a blood vessel with an aneurysm. For this problem, you will analyze the data and attempt to build a model of the 2D boundary of the shape.\n",
    "\n",
    "    a. **[5 points]** Read the data into Python and make a plot of the 3D points.\n",
    "    \n",
    "    b. **[10 points]** Assume the geometry is made up of a 2D curve rotated about a suitable axis to create a shape that is circular on each slice perpendicular to the tube. Fit the best curve you can and plot the corresponding 3D surface.\n",
    "    \n",
    "    c. **[10 points]** Fit a radial basis function expansion model to learn the surface using gradient descent for optimization. Plot the surface.\n",
    "    \n",
    "    d. **[Bonus +5 points]** Implement a roughness penalty in your loss function.\n",
    "\n",
    "[**_Hint._** Use only the top half of the point cloud, fit the model, plot it for a regular grid of x and y coordinates, and then mirror it.]"
   ]
  },
  {
   "cell_type": "code",
   "execution_count": null,
   "id": "e2a0caaf-a5a3-4d2c-b340-5dec54ec199e",
   "metadata": {},
   "outputs": [],
   "source": []
  }
 ],
 "metadata": {
  "kernelspec": {
   "display_name": "Python 3 (ipykernel)",
   "language": "python",
   "name": "python3"
  },
  "language_info": {
   "codemirror_mode": {
    "name": "ipython",
    "version": 3
   },
   "file_extension": ".py",
   "mimetype": "text/x-python",
   "name": "python",
   "nbconvert_exporter": "python",
   "pygments_lexer": "ipython3",
   "version": "3.10.9"
  }
 },
 "nbformat": 4,
 "nbformat_minor": 5
}
