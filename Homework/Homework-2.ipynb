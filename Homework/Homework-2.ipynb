{
 "cells": [
  {
   "cell_type": "markdown",
   "id": "2c8ab292-266f-4722-848f-1109966685d0",
   "metadata": {},
   "source": [
    "# MTH 4224 / CSE 4224 - Homework 2\n",
    "\n",
    "**Deadline**: Mar 15, 2024\n",
    "\n",
    "**Points**: 35\n",
    "\n",
    "**Note**: I did give some hints, but I did not teach about every built-in function you're going to need to use. This will *always* be the situation in real life. Be resourceful, read the documentation, Google your errors.\n",
    "\n",
    "**Academic Honesty**: Learn from the Internet, talk to classmates or friends, ask questions, but don't just copy blocks of code. Every submission we grade should be unique.\n",
    "\n",
    "### Instructions\n",
    "\n",
    "Submit **one** Python notebook file for grading. Your file must include **mathematical work** (type it or insert pictures of your handwritten work), **text explanations** of your work, **well-commented code**, and the **outputs** from your code.\n",
    "\n",
    "### Problems\n",
    "\n",
    "1. "
   ]
  },
  {
   "cell_type": "code",
   "execution_count": null,
   "id": "72ba712d-0450-40c2-bf1e-3956d1528c6b",
   "metadata": {},
   "outputs": [],
   "source": []
  }
 ],
 "metadata": {
  "kernelspec": {
   "display_name": "Python 3 (ipykernel)",
   "language": "python",
   "name": "python3"
  },
  "language_info": {
   "codemirror_mode": {
    "name": "ipython",
    "version": 3
   },
   "file_extension": ".py",
   "mimetype": "text/x-python",
   "name": "python",
   "nbconvert_exporter": "python",
   "pygments_lexer": "ipython3",
   "version": "3.10.9"
  }
 },
 "nbformat": 4,
 "nbformat_minor": 5
}
