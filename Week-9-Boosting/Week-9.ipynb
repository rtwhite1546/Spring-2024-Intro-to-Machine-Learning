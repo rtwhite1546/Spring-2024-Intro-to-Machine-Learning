{
 "cells": [
  {
   "cell_type": "markdown",
   "id": "32e002b4-8eca-42be-bf55-522d8a5c0510",
   "metadata": {
    "tags": []
   },
   "source": [
    "# Week 9 - Ensemble Learning: Boosting\n",
    "\n",
    "Last week, we saw that **bagging** (**b**ootstrap **agg**regation) averages multiple classifiers or regressors fitted to different bootstrapped data samples, which has the effect of reducing the variance of the individual models and regularizing their fits to improve generalization (test performance).\n",
    "\n",
    "This week, we continue our work with ensemble models, of which bagging is a special case. This week we cover **boosting**.\n",
    "\n",
    "Boosting throws out bootstrapping in favor of sequential samples that push the individual models to focus on points where the model makes errors. This is primarily used to solve underfitting."
   ]
  },
  {
   "cell_type": "markdown",
   "id": "a0696d12-0764-43c7-a552-28400fdb95e3",
   "metadata": {
    "tags": []
   },
   "source": [
    "# Lecture 16 - Boosting and AdaBoost\n",
    "\n",
    "First, let's import some things."
   ]
  },
  {
   "cell_type": "code",
   "execution_count": 39,
   "id": "5119d5ee-778a-43ce-b764-5d074e89712d",
   "metadata": {},
   "outputs": [],
   "source": [
    "from sklearn.datasets import load_breast_cancer\n",
    "from sklearn.ensemble import AdaBoostClassifier, AdaBoostRegressor\n",
    "from sklearn.tree import DecisionTreeClassifier"
   ]
  },
  {
   "cell_type": "code",
   "execution_count": 30,
   "id": "823f87e8-7f7a-445a-aab3-fca88c798780",
   "metadata": {},
   "outputs": [
    {
     "name": "stdout",
     "output_type": "stream",
     "text": [
      "\n",
      "Training Classification Report:\n",
      "\n",
      "               precision    recall  f1-score   support\n",
      "\n",
      "           0       1.00      1.00      1.00       160\n",
      "           1       1.00      1.00      1.00       266\n",
      "\n",
      "    accuracy                           1.00       426\n",
      "   macro avg       1.00      1.00      1.00       426\n",
      "weighted avg       1.00      1.00      1.00       426\n",
      "\n",
      "\n",
      "Testing Classification Report:\n",
      "\n",
      "               precision    recall  f1-score   support\n",
      "\n",
      "           0       0.98      0.92      0.95        52\n",
      "           1       0.96      0.99      0.97        91\n",
      "\n",
      "    accuracy                           0.97       143\n",
      "   macro avg       0.97      0.96      0.96       143\n",
      "weighted avg       0.97      0.97      0.96       143\n",
      "\n",
      "\n",
      "Testing Confusion Matrix:\n",
      "\n"
     ]
    },
    {
     "data": {
      "text/plain": [
       "<Figure size 432x288 with 0 Axes>"
      ]
     },
     "execution_count": 30,
     "metadata": {},
     "output_type": "execute_result"
    },
    {
     "data": {
      "image/png": "[encoded data removed]",
      "text/plain": [
       "<Figure size 432x288 with 2 Axes>"
      ]
     },
     "metadata": {
      "needs_background": "light"
     },
     "output_type": "display_data"
    },
    {
     "data": {
      "text/plain": [
       "<Figure size 432x288 with 0 Axes>"
      ]
     },
     "metadata": {},
     "output_type": "display_data"
    }
   ],
   "source": [
    "data = load_breast_cancer()\n",
    "\n",
    "X = data['data']\n",
    "Y = data['target']\n",
    "\n",
    "# split the data into train and test sets\n",
    "trainX, testX, trainY, testY = train_test_split(X, Y, test_size = 0.25)\n",
    "\n",
    "# build the classifier\n",
    "model = AdaBoostClassifier()\n",
    "\n",
    "# fit the classifier to the training data\n",
    "model.fit(trainX, trainY)\n",
    "\n",
    "# predict the labels of the training set\n",
    "predictedY = model.predict(trainX)\n",
    "\n",
    "# print quality metrics\n",
    "print('\\nTraining Classification Report:\\n\\n', classification_report(trainY, predictedY))\n",
    "\n",
    "# predict the labels of the test set\n",
    "predictedY = model.predict(testX)\n",
    "\n",
    "# print quality metrics\n",
    "print('\\nTesting Classification Report:\\n\\n', classification_report(testY, predictedY))\n",
    "\n",
    "# predict the labels of the test set\n",
    "predictedY = model.predict(testX)\n",
    "\n",
    "print('\\nTesting Confusion Matrix:\\n')\n",
    "\n",
    "sn.heatmap(confusion_matrix(testY, predictedY))\n",
    "plt.figure()"
   ]
  },
  {
   "cell_type": "code",
   "execution_count": 34,
   "id": "8d02c536-d758-4025-b3d5-c4f6faf7014c",
   "metadata": {},
   "outputs": [
    {
     "name": "stdout",
     "output_type": "stream",
     "text": [
      "\n",
      "Training Classification Report:\n",
      "\n",
      "               precision    recall  f1-score   support\n",
      "\n",
      "           0       0.93      0.97      0.95        40\n",
      "           1       0.98      0.95      0.97        60\n",
      "           2       1.00      1.00      1.00        33\n",
      "\n",
      "    accuracy                           0.97       133\n",
      "   macro avg       0.97      0.97      0.97       133\n",
      "weighted avg       0.97      0.97      0.97       133\n",
      "\n",
      "\n",
      "Testing Classification Report:\n",
      "\n",
      "               precision    recall  f1-score   support\n",
      "\n",
      "           0       1.00      0.95      0.97        19\n",
      "           1       0.73      1.00      0.85        11\n",
      "           2       1.00      0.80      0.89        15\n",
      "\n",
      "    accuracy                           0.91        45\n",
      "   macro avg       0.91      0.92      0.90        45\n",
      "weighted avg       0.93      0.91      0.91        45\n",
      "\n",
      "\n",
      "Testing Confusion Matrix:\n",
      "\n"
     ]
    },
    {
     "data": {
      "text/plain": [
       "<Figure size 432x288 with 0 Axes>"
      ]
     },
     "execution_count": 34,
     "metadata": {},
     "output_type": "execute_result"
    },
    {
     "data": {
      "image/png": "[encoded data removed]",
      "text/plain": [
       "<Figure size 432x288 with 2 Axes>"
      ]
     },
     "metadata": {
      "needs_background": "light"
     },
     "output_type": "display_data"
    },
    {
     "data": {
      "text/plain": [
       "<Figure size 432x288 with 0 Axes>"
      ]
     },
     "metadata": {},
     "output_type": "display_data"
    }
   ],
   "source": [
    "data = load_wine()\n",
    "\n",
    "X = data['data']\n",
    "Y = data['target']\n",
    "\n",
    "# split the data into train and test sets\n",
    "trainX, testX, trainY, testY = train_test_split(X, Y, test_size = 0.25)\n",
    "\n",
    "# build the classifier\n",
    "model = AdaBoostClassifier()\n",
    "\n",
    "# fit the classifier to the training data\n",
    "model.fit(trainX, trainY)\n",
    "\n",
    "# predict the labels of the training set\n",
    "predictedY = model.predict(trainX)\n",
    "\n",
    "# print quality metrics\n",
    "print('\\nTraining Classification Report:\\n\\n', classification_report(trainY, predictedY))\n",
    "\n",
    "# predict the labels of the test set\n",
    "predictedY = model.predict(testX)\n",
    "\n",
    "# print quality metrics\n",
    "print('\\nTesting Classification Report:\\n\\n', classification_report(testY, predictedY))\n",
    "\n",
    "# predict the labels of the test set\n",
    "predictedY = model.predict(testX)\n",
    "\n",
    "print('\\nTesting Confusion Matrix:\\n')\n",
    "\n",
    "sn.heatmap(confusion_matrix(testY, predictedY))\n",
    "plt.figure()"
   ]
  },
  {
   "cell_type": "markdown",
   "id": "5e32f38f-7e1e-4df1-9457-9e0748e90d5c",
   "metadata": {},
   "source": [
    "Let's try the MNIST dataset with AdaBoost."
   ]
  },
  {
   "cell_type": "code",
   "execution_count": 12,
   "id": "abf0b4b3-95e1-48e1-971e-fad43bcbdc51",
   "metadata": {},
   "outputs": [
    {
     "name": "stdout",
     "output_type": "stream",
     "text": [
      "\n",
      "Training Classification Report:\n",
      "\n",
      "               precision    recall  f1-score   support\n",
      "\n",
      "           0       0.81      0.90      0.86      5923\n",
      "           1       0.83      0.94      0.88      6742\n",
      "           2       0.78      0.55      0.65      5958\n",
      "           3       0.74      0.58      0.65      6131\n",
      "           4       0.75      0.78      0.77      5842\n",
      "           5       0.68      0.64      0.66      5421\n",
      "           6       0.68      0.87      0.76      5918\n",
      "           7       0.74      0.72      0.73      6265\n",
      "           8       0.67      0.70      0.68      5851\n",
      "           9       0.63      0.61      0.62      5949\n",
      "\n",
      "    accuracy                           0.73     60000\n",
      "   macro avg       0.73      0.73      0.73     60000\n",
      "weighted avg       0.73      0.73      0.73     60000\n",
      "\n",
      "\n",
      "Testing Classification Report:\n",
      "\n",
      "               precision    recall  f1-score   support\n",
      "\n",
      "           0       0.82      0.90      0.86       980\n",
      "           1       0.84      0.95      0.89      1135\n",
      "           2       0.80      0.55      0.65      1032\n",
      "           3       0.74      0.58      0.65      1010\n",
      "           4       0.75      0.79      0.77       982\n",
      "           5       0.66      0.63      0.64       892\n",
      "           6       0.66      0.85      0.75       958\n",
      "           7       0.74      0.71      0.72      1028\n",
      "           8       0.64      0.71      0.67       974\n",
      "           9       0.64      0.61      0.62      1009\n",
      "\n",
      "    accuracy                           0.73     10000\n",
      "   macro avg       0.73      0.73      0.72     10000\n",
      "weighted avg       0.73      0.73      0.73     10000\n",
      "\n",
      "\n",
      "Testing Confusion Matrix:\n",
      "\n"
     ]
    },
    {
     "data": {
      "text/plain": [
       "<Figure size 432x288 with 0 Axes>"
      ]
     },
     "execution_count": 12,
     "metadata": {},
     "output_type": "execute_result"
    },
    {
     "data": {
      "image/png": "[encoded data removed]",
      "text/plain": [
       "<Figure size 432x288 with 2 Axes>"
      ]
     },
     "metadata": {
      "needs_background": "light"
     },
     "output_type": "display_data"
    },
    {
     "data": {
      "text/plain": [
       "<Figure size 432x288 with 0 Axes>"
      ]
     },
     "metadata": {},
     "output_type": "display_data"
    }
   ],
   "source": [
    "(trainX, trainY), (testX, testY) = mnist.load_data()\n",
    "\n",
    "# preprocess the data\n",
    "trainX = trainX.reshape(trainX.shape[0], trainX.shape[1] * trainX.shape[2])\n",
    "trainX = trainX.astype('float')/255.0\n",
    "\n",
    "testX = testX.reshape(testX.shape[0], testX.shape[1] * testX.shape[2])\n",
    "testX = testX.astype('float')/255.0\n",
    "\n",
    "# build the classifier\n",
    "model = AdaBoostClassifier(n_estimators = 100)\n",
    "\n",
    "# fit the classifier to the training data\n",
    "model.fit(trainX, trainY)\n",
    "\n",
    "# predict the labels of the training set\n",
    "predictedY = model.predict(trainX)\n",
    "\n",
    "# print quality metrics\n",
    "print('\\nTraining Classification Report:\\n\\n', classification_report(trainY, predictedY))\n",
    "\n",
    "# predict the labels of the test set\n",
    "predictedY = model.predict(testX)\n",
    "\n",
    "# print quality metrics\n",
    "print('\\nTesting Classification Report:\\n\\n', classification_report(testY, predictedY))\n",
    "\n",
    "# predict the labels of the test set\n",
    "predictedY = model.predict(testX)\n",
    "\n",
    "print('\\nTesting Confusion Matrix:\\n')\n",
    "\n",
    "sn.heatmap(confusion_matrix(testY, predictedY))\n",
    "plt.figure()"
   ]
  },
  {
   "cell_type": "markdown",
   "id": "405efef4-1fd0-43d0-828d-6f6418f2d96f",
   "metadata": {},
   "source": [
    "Let's make the individual classifiers a little more sophisticated."
   ]
  },
  {
   "cell_type": "code",
   "execution_count": 35,
   "id": "75c5b8f6-caed-467a-b0fd-603d9618a50a",
   "metadata": {},
   "outputs": [
    {
     "name": "stdout",
     "output_type": "stream",
     "text": [
      "\n",
      "Training Classification Report:\n",
      "\n",
      "               precision    recall  f1-score   support\n",
      "\n",
      "           0       1.00      1.00      1.00      5923\n",
      "           1       1.00      1.00      1.00      6742\n",
      "           2       1.00      1.00      1.00      5958\n",
      "           3       1.00      1.00      1.00      6131\n",
      "           4       1.00      1.00      1.00      5842\n",
      "           5       1.00      1.00      1.00      5421\n",
      "           6       1.00      1.00      1.00      5918\n",
      "           7       1.00      1.00      1.00      6265\n",
      "           8       1.00      1.00      1.00      5851\n",
      "           9       1.00      1.00      1.00      5949\n",
      "\n",
      "    accuracy                           1.00     60000\n",
      "   macro avg       1.00      1.00      1.00     60000\n",
      "weighted avg       1.00      1.00      1.00     60000\n",
      "\n",
      "\n",
      "Testing Classification Report:\n",
      "\n",
      "               precision    recall  f1-score   support\n",
      "\n",
      "           0       0.91      0.93      0.92       980\n",
      "           1       0.96      0.96      0.96      1135\n",
      "           2       0.87      0.86      0.86      1032\n",
      "           3       0.83      0.85      0.84      1010\n",
      "           4       0.88      0.87      0.87       982\n",
      "           5       0.85      0.84      0.85       892\n",
      "           6       0.89      0.89      0.89       958\n",
      "           7       0.91      0.90      0.90      1028\n",
      "           8       0.82      0.80      0.81       974\n",
      "           9       0.85      0.85      0.85      1009\n",
      "\n",
      "    accuracy                           0.88     10000\n",
      "   macro avg       0.88      0.88      0.88     10000\n",
      "weighted avg       0.88      0.88      0.88     10000\n",
      "\n",
      "\n",
      "Testing Confusion Matrix:\n",
      "\n"
     ]
    },
    {
     "data": {
      "text/plain": [
       "<Figure size 432x288 with 0 Axes>"
      ]
     },
     "execution_count": 35,
     "metadata": {},
     "output_type": "execute_result"
    },
    {
     "data": {
      "image/png": "[encoded data removed]",
      "text/plain": [
       "<Figure size 432x288 with 2 Axes>"
      ]
     },
     "metadata": {
      "needs_background": "light"
     },
     "output_type": "display_data"
    },
    {
     "data": {
      "text/plain": [
       "<Figure size 432x288 with 0 Axes>"
      ]
     },
     "metadata": {},
     "output_type": "display_data"
    }
   ],
   "source": [
    "(trainX, trainY), (testX, testY) = mnist.load_data()\n",
    "\n",
    "# preprocess the data\n",
    "trainX = trainX.reshape(trainX.shape[0], trainX.shape[1] * trainX.shape[2])\n",
    "trainX = trainX.astype('float')/255.0\n",
    "\n",
    "testX = testX.reshape(testX.shape[0], testX.shape[1] * testX.shape[2])\n",
    "testX = testX.astype('float')/255.0\n",
    "\n",
    "# build the classifier\n",
    "model = AdaBoostClassifier(DecisionTreeClassifier(max_depth=None))\n",
    "\n",
    "# fit the classifier to the training data\n",
    "model.fit(trainX, trainY)\n",
    "\n",
    "# predict the labels of the training set\n",
    "predictedY = model.predict(trainX)\n",
    "\n",
    "# print quality metrics\n",
    "print('\\nTraining Classification Report:\\n\\n', classification_report(trainY, predictedY))\n",
    "\n",
    "# predict the labels of the test set\n",
    "predictedY = model.predict(testX)\n",
    "\n",
    "# print quality metrics\n",
    "print('\\nTesting Classification Report:\\n\\n', classification_report(testY, predictedY))\n",
    "\n",
    "# predict the labels of the test set\n",
    "predictedY = model.predict(testX)\n",
    "\n",
    "print('\\nTesting Confusion Matrix:\\n')\n",
    "\n",
    "sn.heatmap(confusion_matrix(testY, predictedY))\n",
    "plt.figure()"
   ]
  },
  {
   "cell_type": "code",
   "execution_count": 32,
   "id": "f5bc8e74-98f7-4459-a561-31b6927eff63",
   "metadata": {},
   "outputs": [
    {
     "name": "stderr",
     "output_type": "stream",
     "text": [
      "G:\\Miniconda3\\envs\\DL\\lib\\site-packages\\sklearn\\utils\\validation.py:72: DataConversionWarning: A column-vector y was passed when a 1d array was expected. Please change the shape of y to (n_samples, ), for example using ravel().\n",
      "  return f(**kwargs)\n"
     ]
    },
    {
     "name": "stdout",
     "output_type": "stream",
     "text": [
      "\n",
      "Training Classification Report:\n",
      "\n",
      "               precision    recall  f1-score   support\n",
      "\n",
      "           0       0.36      0.34      0.35      5000\n",
      "           1       0.34      0.34      0.34      5000\n",
      "           2       0.20      0.10      0.14      5000\n",
      "           3       0.23      0.12      0.16      5000\n",
      "           4       0.23      0.20      0.21      5000\n",
      "           5       0.29      0.27      0.28      5000\n",
      "           6       0.29      0.55      0.38      5000\n",
      "           7       0.35      0.30      0.32      5000\n",
      "           8       0.39      0.47      0.43      5000\n",
      "           9       0.38      0.48      0.42      5000\n",
      "\n",
      "    accuracy                           0.32     50000\n",
      "   macro avg       0.31      0.32      0.30     50000\n",
      "weighted avg       0.31      0.32      0.30     50000\n",
      "\n",
      "\n",
      "Testing Classification Report:\n",
      "\n",
      "               precision    recall  f1-score   support\n",
      "\n",
      "           0       0.33      0.33      0.33      1000\n",
      "           1       0.33      0.33      0.33      1000\n",
      "           2       0.19      0.10      0.13      1000\n",
      "           3       0.19      0.10      0.13      1000\n",
      "           4       0.25      0.22      0.23      1000\n",
      "           5       0.28      0.26      0.27      1000\n",
      "           6       0.30      0.55      0.39      1000\n",
      "           7       0.34      0.30      0.32      1000\n",
      "           8       0.37      0.45      0.40      1000\n",
      "           9       0.39      0.48      0.43      1000\n",
      "\n",
      "    accuracy                           0.31     10000\n",
      "   macro avg       0.30      0.31      0.30     10000\n",
      "weighted avg       0.30      0.31      0.30     10000\n",
      "\n",
      "\n",
      "Testing Confusion Matrix:\n",
      "\n"
     ]
    },
    {
     "data": {
      "text/plain": [
       "<Figure size 432x288 with 0 Axes>"
      ]
     },
     "execution_count": 32,
     "metadata": {},
     "output_type": "execute_result"
    },
    {
     "data": {
      "image/png": "[encoded data removed]",
      "text/plain": [
       "<Figure size 432x288 with 2 Axes>"
      ]
     },
     "metadata": {
      "needs_background": "light"
     },
     "output_type": "display_data"
    },
    {
     "data": {
      "text/plain": [
       "<Figure size 432x288 with 0 Axes>"
      ]
     },
     "metadata": {},
     "output_type": "display_data"
    }
   ],
   "source": [
    "(trainX, trainY), (testX, testY) = cifar10.load_data()\n",
    "\n",
    "# preprocess the data\n",
    "trainX = trainX.reshape(trainX.shape[0], trainX.shape[1] * trainX.shape[2] * 3)\n",
    "trainX = trainX.astype('float')/255.0\n",
    "\n",
    "testX = testX.reshape(testX.shape[0], testX.shape[1] * testX.shape[2] * 3)\n",
    "testX = testX.astype('float')/255.0\n",
    "\n",
    "# build the classifier\n",
    "model = AdaBoostClassifier()\n",
    "\n",
    "# fit the classifier to the training data\n",
    "model.fit(trainX, trainY)\n",
    "\n",
    "# predict the labels of the training set\n",
    "predictedY = model.predict(trainX)\n",
    "\n",
    "# print quality metrics\n",
    "print('\\nTraining Classification Report:\\n\\n', classification_report(trainY, predictedY))\n",
    "\n",
    "# predict the labels of the test set\n",
    "predictedY = model.predict(testX)\n",
    "\n",
    "# print quality metrics\n",
    "print('\\nTesting Classification Report:\\n\\n', classification_report(testY, predictedY))\n",
    "\n",
    "# predict the labels of the test set\n",
    "predictedY = model.predict(testX)\n",
    "\n",
    "print('\\nTesting Confusion Matrix:\\n')\n",
    "\n",
    "sn.heatmap(confusion_matrix(testY, predictedY))\n",
    "plt.figure()"
   ]
  },
  {
   "cell_type": "markdown",
   "id": "2a38f300-714f-4bcb-aacf-2ba7742c111e",
   "metadata": {
    "tags": []
   },
   "source": [
    "# Lecture 17 - Gradient Boosting\n",
    "\n",
    "We previously discussed boosting and AdaBoost, a powerful ensemble method for classification or regression.\n",
    "\n",
    "This week, we will learn about another variation of boosting: **gradient boosting** and the **XGBoost** algorithm, currently one of the best classifiers for many problems."
   ]
  },
  {
   "cell_type": "code",
   "execution_count": 4,
   "id": "0089ca6f-251c-469b-8102-954bd6c25408",
   "metadata": {},
   "outputs": [],
   "source": [
    "import numpy as np\n",
    "import matplotlib.pyplot as plt\n",
    "import pandas as pd\n",
    "import seaborn as sn\n",
    "\n",
    "from sklearn.datasets import load_breast_cancer\n",
    "from sklearn.datasets import load_wine\n",
    "from sklearn.ensemble import GradientBoostingClassifier\n",
    "from sklearn.inspection import permutation_importance\n",
    "from sklearn.metrics import classification_report\n",
    "from sklearn.metrics import confusion_matrix\n",
    "from sklearn.model_selection import GridSearchCV\n",
    "from sklearn.model_selection import train_test_split\n",
    "\n",
    "from tensorflow.keras.datasets import mnist\n",
    "from tensorflow.keras.datasets import cifar10"
   ]
  },
  {
   "cell_type": "markdown",
   "id": "1f49d0bb-b6bd-4c72-acc2-96af2e619eaa",
   "metadata": {},
   "source": [
    "Let's try gradient boosting."
   ]
  },
  {
   "cell_type": "code",
   "execution_count": 39,
   "id": "7a332135-82aa-41f0-90f1-a1c9e33bf0e8",
   "metadata": {},
   "outputs": [
    {
     "name": "stdout",
     "output_type": "stream",
     "text": [
      "      Iter       Train Loss   Remaining Time \n",
      "         1           1.8954            4.50m\n",
      "         2           1.6553            4.53m\n",
      "         3           1.4853            4.51m\n",
      "         4           1.3380            4.45m\n",
      "         5           1.2215            4.39m\n",
      "         6           1.1169            4.35m\n",
      "         7           1.0331            4.29m\n",
      "         8           0.9617            4.25m\n",
      "         9           0.8929            4.20m\n",
      "        10           0.8356            4.15m\n",
      "        20           0.4939            3.68m\n",
      "        30           0.3410            3.23m\n",
      "        40           0.2574            2.77m\n",
      "        50           0.2060            2.31m\n",
      "        60           0.1688            1.84m\n",
      "        70           0.1415            1.37m\n",
      "        80           0.1202           54.88s\n",
      "        90           0.1024           27.42s\n",
      "       100           0.0879            0.00s\n",
      "\n",
      "Training Classification Report:\n",
      "\n",
      "               precision    recall  f1-score   support\n",
      "\n",
      "           0       1.00      1.00      1.00      1001\n",
      "           1       1.00      1.00      1.00      1127\n",
      "           2       0.99      0.98      0.99       991\n",
      "           3       0.98      0.97      0.98      1032\n",
      "           4       0.99      0.99      0.99       980\n",
      "           5       0.99      0.99      0.99       863\n",
      "           6       0.99      1.00      1.00      1014\n",
      "           7       0.99      0.99      0.99      1070\n",
      "           8       0.98      0.99      0.99       944\n",
      "           9       0.98      0.98      0.98       978\n",
      "\n",
      "    accuracy                           0.99     10000\n",
      "   macro avg       0.99      0.99      0.99     10000\n",
      "weighted avg       0.99      0.99      0.99     10000\n",
      "\n",
      "\n",
      "Testing Classification Report:\n",
      "\n",
      "               precision    recall  f1-score   support\n",
      "\n",
      "           0       0.94      0.98      0.96        85\n",
      "           1       0.97      0.98      0.97       126\n",
      "           2       0.95      0.87      0.91       116\n",
      "           3       0.88      0.85      0.87       107\n",
      "           4       0.90      0.92      0.91       110\n",
      "           5       0.88      0.87      0.88        87\n",
      "           6       0.90      0.87      0.89        87\n",
      "           7       0.86      0.90      0.88        99\n",
      "           8       0.81      0.84      0.82        89\n",
      "           9       0.87      0.89      0.88        94\n",
      "\n",
      "    accuracy                           0.90      1000\n",
      "   macro avg       0.90      0.90      0.90      1000\n",
      "weighted avg       0.90      0.90      0.90      1000\n",
      "\n",
      "\n",
      "Testing Confusion Matrix:\n",
      "\n"
     ]
    },
    {
     "data": {
      "text/plain": [
       "<Figure size 432x288 with 0 Axes>"
      ]
     },
     "execution_count": 39,
     "metadata": {},
     "output_type": "execute_result"
    },
    {
     "data": {
      "image/png": "[encoded data removed]",
      "text/plain": [
       "<Figure size 432x288 with 2 Axes>"
      ]
     },
     "metadata": {
      "needs_background": "light"
     },
     "output_type": "display_data"
    },
    {
     "data": {
      "text/plain": [
       "<Figure size 432x288 with 0 Axes>"
      ]
     },
     "metadata": {},
     "output_type": "display_data"
    }
   ],
   "source": [
    "(trainX, trainY), (testX, testY) = mnist.load_data()\n",
    "\n",
    "trainX = trainX[:10000]\n",
    "trainY = trainY[:10000]\n",
    "\n",
    "testX = testX[:1000]\n",
    "testY = testY[:1000]\n",
    "\n",
    "# preprocess the data\n",
    "trainX = trainX.reshape(trainX.shape[0], trainX.shape[1] * trainX.shape[2])\n",
    "trainX = trainX.astype('float')/255.0\n",
    "\n",
    "testX = testX.reshape(testX.shape[0], testX.shape[1] * testX.shape[2])\n",
    "testX = testX.astype('float')/255.0\n",
    "\n",
    "# build the classifier\n",
    "model = GradientBoostingClassifier(verbose = 1)\n",
    "\n",
    "# fit the classifier to the training data\n",
    "model.fit(trainX, trainY)\n",
    "\n",
    "# predict the labels of the training set\n",
    "predictedY = model.predict(trainX)\n",
    "\n",
    "# print quality metrics\n",
    "print('\\nTraining Classification Report:\\n\\n', classification_report(trainY, predictedY))\n",
    "\n",
    "# predict the labels of the test set\n",
    "predictedY = model.predict(testX)\n",
    "\n",
    "# print quality metrics\n",
    "print('\\nTesting Classification Report:\\n\\n', classification_report(testY, predictedY))\n",
    "\n",
    "# predict the labels of the test set\n",
    "predictedY = model.predict(testX)\n",
    "\n",
    "print('\\nTesting Confusion Matrix:\\n')\n",
    "\n",
    "sn.heatmap(confusion_matrix(testY, predictedY))\n",
    "plt.figure()"
   ]
  },
  {
   "cell_type": "markdown",
   "id": "e2837538-ac57-4bd9-9303-595276e92a99",
   "metadata": {},
   "source": [
    "Note that we ran with a training set of just 10,000 images because gradient boosting is incapable of parallelization and is, therefore, rather slow."
   ]
  },
  {
   "cell_type": "markdown",
   "id": "8b71daa9-5075-474c-a834-8daefd4f9bc5",
   "metadata": {},
   "source": [
    "Let's also try the `HistGradientBoostingClassifier`, an implementation of an algorithm similar to ordinary `GradientBoostingClassifier` but it sometimes runs much faster on large datasets. It is a `scikit-learn` implementation based on Microsoft's [Light GBM](https://github.com/Microsoft/LightGBM)."
   ]
  },
  {
   "cell_type": "code",
   "execution_count": 6,
   "id": "89a95c0e-f7a3-4c5f-a75b-50ec7f87e0ab",
   "metadata": {},
   "outputs": [
    {
     "name": "stdout",
     "output_type": "stream",
     "text": [
      "Binning 0.339 GB of training data: 1.391 s\n",
      "Binning 0.038 GB of validation data: 0.013 s\n",
      "Fitting gradient boosted rounds:\n",
      "[1/100] 10 trees, 310 leaves (31 on avg), max depth = 13, train loss: 1.61218, val loss: 1.63115, in 1.493s\n",
      "[2/100] 10 trees, 310 leaves (31 on avg), max depth = 15, train loss: 1.29579, val loss: 1.32018, in 1.502s\n",
      "[3/100] 10 trees, 310 leaves (31 on avg), max depth = 14, train loss: 1.08075, val loss: 1.10960, in 1.486s\n",
      "[4/100] 10 trees, 310 leaves (31 on avg), max depth = 13, train loss: 0.91908, val loss: 0.95158, in 1.494s\n",
      "[5/100] 10 trees, 310 leaves (31 on avg), max depth = 15, train loss: 0.79140, val loss: 0.82769, in 1.482s\n",
      "[6/100] 10 trees, 310 leaves (31 on avg), max depth = 11, train loss: 0.68864, val loss: 0.72719, in 1.508s\n",
      "[7/100] 10 trees, 310 leaves (31 on avg), max depth = 11, train loss: 0.60453, val loss: 0.64645, in 1.508s\n",
      "[8/100] 10 trees, 310 leaves (31 on avg), max depth = 10, train loss: 0.53510, val loss: 0.57971, in 1.500s\n",
      "[9/100] 10 trees, 310 leaves (31 on avg), max depth = 10, train loss: 0.47589, val loss: 0.52201, in 1.523s\n",
      "[10/100] 10 trees, 310 leaves (31 on avg), max depth = 12, train loss: 0.42654, val loss: 0.47370, in 1.520s\n",
      "[11/100] 10 trees, 310 leaves (31 on avg), max depth = 10, train loss: 0.38453, val loss: 0.43378, in 1.505s\n",
      "[12/100] 10 trees, 310 leaves (31 on avg), max depth = 11, train loss: 0.34777, val loss: 0.39871, in 1.512s\n",
      "[13/100] 10 trees, 310 leaves (31 on avg), max depth = 10, train loss: 0.31630, val loss: 0.36811, in 1.513s\n",
      "[14/100] 10 trees, 310 leaves (31 on avg), max depth = 11, train loss: 0.28823, val loss: 0.34175, in 1.515s\n",
      "[15/100] 10 trees, 310 leaves (31 on avg), max depth = 12, train loss: 0.26310, val loss: 0.31784, in 1.506s\n",
      "[16/100] 10 trees, 310 leaves (31 on avg), max depth = 12, train loss: 0.24163, val loss: 0.29725, in 1.526s\n",
      "[17/100] 10 trees, 310 leaves (31 on avg), max depth = 15, train loss: 0.22270, val loss: 0.27928, in 1.507s\n",
      "[18/100] 10 trees, 310 leaves (31 on avg), max depth = 11, train loss: 0.20523, val loss: 0.26312, in 1.511s\n",
      "[19/100] 10 trees, 310 leaves (31 on avg), max depth = 10, train loss: 0.19064, val loss: 0.24929, in 1.521s\n",
      "[20/100] 10 trees, 310 leaves (31 on avg), max depth = 14, train loss: 0.17633, val loss: 0.23670, in 1.524s\n",
      "[21/100] 10 trees, 310 leaves (31 on avg), max depth = 15, train loss: 0.16370, val loss: 0.22527, in 1.538s\n",
      "[22/100] 10 trees, 310 leaves (31 on avg), max depth = 12, train loss: 0.15228, val loss: 0.21492, in 1.535s\n",
      "[23/100] 10 trees, 310 leaves (31 on avg), max depth = 13, train loss: 0.14212, val loss: 0.20546, in 1.504s\n",
      "[24/100] 10 trees, 310 leaves (31 on avg), max depth = 11, train loss: 0.13272, val loss: 0.19713, in 1.487s\n",
      "[25/100] 10 trees, 310 leaves (31 on avg), max depth = 11, train loss: 0.12422, val loss: 0.19004, in 1.495s\n",
      "[26/100] 10 trees, 310 leaves (31 on avg), max depth = 13, train loss: 0.11642, val loss: 0.18310, in 1.513s\n",
      "[27/100] 10 trees, 310 leaves (31 on avg), max depth = 14, train loss: 0.10926, val loss: 0.17704, in 1.515s\n",
      "[28/100] 10 trees, 310 leaves (31 on avg), max depth = 12, train loss: 0.10248, val loss: 0.17139, in 1.514s\n",
      "[29/100] 10 trees, 310 leaves (31 on avg), max depth = 14, train loss: 0.09600, val loss: 0.16605, in 1.502s\n",
      "[30/100] 10 trees, 310 leaves (31 on avg), max depth = 11, train loss: 0.09018, val loss: 0.16145, in 1.505s\n",
      "[31/100] 10 trees, 310 leaves (31 on avg), max depth = 13, train loss: 0.08485, val loss: 0.15680, in 1.511s\n",
      "[32/100] 10 trees, 310 leaves (31 on avg), max depth = 13, train loss: 0.07968, val loss: 0.15247, in 1.509s\n",
      "[33/100] 10 trees, 310 leaves (31 on avg), max depth = 13, train loss: 0.07507, val loss: 0.14848, in 1.504s\n",
      "[34/100] 10 trees, 310 leaves (31 on avg), max depth = 12, train loss: 0.07067, val loss: 0.14472, in 1.528s\n",
      "[35/100] 10 trees, 310 leaves (31 on avg), max depth = 13, train loss: 0.06660, val loss: 0.14180, in 1.505s\n",
      "[36/100] 10 trees, 310 leaves (31 on avg), max depth = 14, train loss: 0.06285, val loss: 0.13872, in 1.524s\n",
      "[37/100] 10 trees, 310 leaves (31 on avg), max depth = 15, train loss: 0.05940, val loss: 0.13586, in 1.542s\n",
      "[38/100] 10 trees, 310 leaves (31 on avg), max depth = 14, train loss: 0.05611, val loss: 0.13333, in 1.526s\n",
      "[39/100] 10 trees, 310 leaves (31 on avg), max depth = 15, train loss: 0.05309, val loss: 0.13033, in 1.525s\n",
      "[40/100] 10 trees, 310 leaves (31 on avg), max depth = 14, train loss: 0.05018, val loss: 0.12787, in 1.538s\n",
      "[41/100] 10 trees, 310 leaves (31 on avg), max depth = 14, train loss: 0.04740, val loss: 0.12556, in 1.510s\n",
      "[42/100] 10 trees, 310 leaves (31 on avg), max depth = 13, train loss: 0.04490, val loss: 0.12317, in 1.534s\n",
      "[43/100] 10 trees, 310 leaves (31 on avg), max depth = 13, train loss: 0.04252, val loss: 0.12100, in 1.523s\n",
      "[44/100] 10 trees, 310 leaves (31 on avg), max depth = 14, train loss: 0.04021, val loss: 0.11896, in 1.515s\n",
      "[45/100] 10 trees, 310 leaves (31 on avg), max depth = 13, train loss: 0.03805, val loss: 0.11723, in 1.532s\n",
      "[46/100] 10 trees, 310 leaves (31 on avg), max depth = 14, train loss: 0.03618, val loss: 0.11536, in 1.549s\n",
      "[47/100] 10 trees, 310 leaves (31 on avg), max depth = 13, train loss: 0.03432, val loss: 0.11419, in 1.520s\n",
      "[48/100] 10 trees, 310 leaves (31 on avg), max depth = 13, train loss: 0.03261, val loss: 0.11305, in 1.538s\n",
      "[49/100] 10 trees, 310 leaves (31 on avg), max depth = 17, train loss: 0.03096, val loss: 0.11174, in 1.527s\n",
      "[50/100] 10 trees, 310 leaves (31 on avg), max depth = 15, train loss: 0.02939, val loss: 0.11030, in 1.509s\n",
      "[51/100] 10 trees, 310 leaves (31 on avg), max depth = 15, train loss: 0.02783, val loss: 0.10897, in 1.519s\n",
      "[52/100] 10 trees, 310 leaves (31 on avg), max depth = 16, train loss: 0.02647, val loss: 0.10766, in 1.519s\n",
      "[53/100] 10 trees, 310 leaves (31 on avg), max depth = 15, train loss: 0.02513, val loss: 0.10622, in 1.531s\n",
      "[54/100] 10 trees, 310 leaves (31 on avg), max depth = 12, train loss: 0.02377, val loss: 0.10483, in 1.520s\n",
      "[55/100] 10 trees, 310 leaves (31 on avg), max depth = 16, train loss: 0.02260, val loss: 0.10355, in 1.531s\n",
      "[56/100] 10 trees, 310 leaves (31 on avg), max depth = 15, train loss: 0.02146, val loss: 0.10283, in 1.531s\n",
      "[57/100] 10 trees, 310 leaves (31 on avg), max depth = 13, train loss: 0.02039, val loss: 0.10215, in 1.498s\n",
      "[58/100] 10 trees, 310 leaves (31 on avg), max depth = 14, train loss: 0.01938, val loss: 0.10124, in 1.535s\n",
      "[59/100] 10 trees, 310 leaves (31 on avg), max depth = 13, train loss: 0.01844, val loss: 0.10057, in 1.535s\n",
      "[60/100] 10 trees, 310 leaves (31 on avg), max depth = 16, train loss: 0.01760, val loss: 0.09984, in 1.546s\n",
      "[61/100] 10 trees, 310 leaves (31 on avg), max depth = 13, train loss: 0.01677, val loss: 0.09886, in 1.526s\n",
      "[62/100] 10 trees, 310 leaves (31 on avg), max depth = 13, train loss: 0.01598, val loss: 0.09817, in 1.559s\n",
      "[63/100] 10 trees, 310 leaves (31 on avg), max depth = 15, train loss: 0.01524, val loss: 0.09770, in 1.550s\n",
      "[64/100] 10 trees, 310 leaves (31 on avg), max depth = 13, train loss: 0.01455, val loss: 0.09694, in 1.550s\n",
      "[65/100] 10 trees, 310 leaves (31 on avg), max depth = 13, train loss: 0.01388, val loss: 0.09615, in 1.539s\n",
      "[66/100] 10 trees, 310 leaves (31 on avg), max depth = 15, train loss: 0.01325, val loss: 0.09585, in 1.524s\n",
      "[67/100] 10 trees, 310 leaves (31 on avg), max depth = 13, train loss: 0.01260, val loss: 0.09522, in 1.518s\n",
      "[68/100] 10 trees, 310 leaves (31 on avg), max depth = 11, train loss: 0.01200, val loss: 0.09460, in 1.545s\n",
      "[69/100] 10 trees, 310 leaves (31 on avg), max depth = 15, train loss: 0.01144, val loss: 0.09413, in 1.552s\n",
      "[70/100] 10 trees, 310 leaves (31 on avg), max depth = 14, train loss: 0.01090, val loss: 0.09344, in 1.525s\n",
      "[71/100] 10 trees, 310 leaves (31 on avg), max depth = 15, train loss: 0.01041, val loss: 0.09296, in 1.508s\n",
      "[72/100] 10 trees, 310 leaves (31 on avg), max depth = 15, train loss: 0.00990, val loss: 0.09238, in 1.507s\n",
      "[73/100] 10 trees, 310 leaves (31 on avg), max depth = 12, train loss: 0.00945, val loss: 0.09175, in 1.530s\n",
      "[74/100] 10 trees, 310 leaves (31 on avg), max depth = 15, train loss: 0.00899, val loss: 0.09094, in 1.526s\n",
      "[75/100] 10 trees, 310 leaves (31 on avg), max depth = 12, train loss: 0.00860, val loss: 0.09055, in 1.530s\n",
      "[76/100] 10 trees, 310 leaves (31 on avg), max depth = 15, train loss: 0.00822, val loss: 0.08995, in 1.532s\n",
      "[77/100] 10 trees, 310 leaves (31 on avg), max depth = 15, train loss: 0.00785, val loss: 0.08941, in 1.548s\n",
      "[78/100] 10 trees, 310 leaves (31 on avg), max depth = 15, train loss: 0.00750, val loss: 0.08894, in 1.559s\n",
      "[79/100] 10 trees, 310 leaves (31 on avg), max depth = 13, train loss: 0.00716, val loss: 0.08841, in 1.541s\n",
      "[80/100] 10 trees, 310 leaves (31 on avg), max depth = 16, train loss: 0.00684, val loss: 0.08793, in 1.528s\n",
      "[81/100] 10 trees, 310 leaves (31 on avg), max depth = 12, train loss: 0.00653, val loss: 0.08740, in 1.518s\n",
      "[82/100] 10 trees, 310 leaves (31 on avg), max depth = 15, train loss: 0.00623, val loss: 0.08683, in 1.527s\n",
      "[83/100] 10 trees, 310 leaves (31 on avg), max depth = 14, train loss: 0.00597, val loss: 0.08660, in 1.527s\n",
      "[84/100] 10 trees, 310 leaves (31 on avg), max depth = 12, train loss: 0.00570, val loss: 0.08658, in 1.514s\n",
      "[85/100] 10 trees, 310 leaves (31 on avg), max depth = 16, train loss: 0.00545, val loss: 0.08618, in 1.517s\n",
      "[86/100] 10 trees, 310 leaves (31 on avg), max depth = 16, train loss: 0.00523, val loss: 0.08600, in 1.533s\n",
      "[87/100] 10 trees, 310 leaves (31 on avg), max depth = 15, train loss: 0.00499, val loss: 0.08589, in 1.533s\n",
      "[88/100] 10 trees, 310 leaves (31 on avg), max depth = 15, train loss: 0.00476, val loss: 0.08548, in 1.522s\n",
      "[89/100] 10 trees, 310 leaves (31 on avg), max depth = 17, train loss: 0.00456, val loss: 0.08543, in 1.516s\n",
      "[90/100] 10 trees, 310 leaves (31 on avg), max depth = 18, train loss: 0.00436, val loss: 0.08527, in 1.526s\n",
      "[91/100] 10 trees, 310 leaves (31 on avg), max depth = 14, train loss: 0.00417, val loss: 0.08505, in 1.531s\n",
      "[92/100] 10 trees, 310 leaves (31 on avg), max depth = 13, train loss: 0.00399, val loss: 0.08453, in 1.536s\n",
      "[93/100] 10 trees, 310 leaves (31 on avg), max depth = 16, train loss: 0.00382, val loss: 0.08429, in 1.529s\n",
      "[94/100] 10 trees, 310 leaves (31 on avg), max depth = 14, train loss: 0.00365, val loss: 0.08393, in 1.538s\n",
      "[95/100] 10 trees, 310 leaves (31 on avg), max depth = 13, train loss: 0.00349, val loss: 0.08370, in 1.534s\n",
      "[96/100] 10 trees, 310 leaves (31 on avg), max depth = 13, train loss: 0.00335, val loss: 0.08365, in 1.537s\n",
      "[97/100] 10 trees, 310 leaves (31 on avg), max depth = 15, train loss: 0.00320, val loss: 0.08348, in 1.522s\n",
      "[98/100] 10 trees, 310 leaves (31 on avg), max depth = 13, train loss: 0.00307, val loss: 0.08339, in 1.532s\n",
      "[99/100] 10 trees, 310 leaves (31 on avg), max depth = 14, train loss: 0.00294, val loss: 0.08298, in 1.527s\n",
      "[100/100] 10 trees, 310 leaves (31 on avg), max depth = 13, train loss: 0.00281, val loss: 0.08296, in 1.523s\n",
      "Fit 1000 trees in 153.778 s, (31000 total leaves)\n",
      "Time spent computing histograms: 119.407s\n",
      "Time spent finding best splits:  4.776s\n",
      "Time spent applying splits:      1.569s\n",
      "Time spent predicting:           0.142s\n",
      "\n",
      "Training Classification Report:\n",
      "\n",
      "               precision    recall  f1-score   support\n",
      "\n",
      "           0       1.00      1.00      1.00      5923\n",
      "           1       1.00      1.00      1.00      6742\n",
      "           2       1.00      1.00      1.00      5958\n",
      "           3       1.00      1.00      1.00      6131\n",
      "           4       1.00      1.00      1.00      5842\n",
      "           5       1.00      1.00      1.00      5421\n",
      "           6       1.00      1.00      1.00      5918\n",
      "           7       1.00      1.00      1.00      6265\n",
      "           8       1.00      1.00      1.00      5851\n",
      "           9       1.00      1.00      1.00      5949\n",
      "\n",
      "    accuracy                           1.00     60000\n",
      "   macro avg       1.00      1.00      1.00     60000\n",
      "weighted avg       1.00      1.00      1.00     60000\n",
      "\n",
      "\n",
      "Testing Classification Report:\n",
      "\n",
      "               precision    recall  f1-score   support\n",
      "\n",
      "           0       0.98      0.99      0.98       980\n",
      "           1       0.99      0.99      0.99      1135\n",
      "           2       0.97      0.97      0.97      1032\n",
      "           3       0.97      0.98      0.98      1010\n",
      "           4       0.98      0.98      0.98       982\n",
      "           5       0.98      0.97      0.98       892\n",
      "           6       0.98      0.98      0.98       958\n",
      "           7       0.98      0.97      0.97      1028\n",
      "           8       0.97      0.98      0.98       974\n",
      "           9       0.97      0.97      0.97      1009\n",
      "\n",
      "    accuracy                           0.98     10000\n",
      "   macro avg       0.98      0.98      0.98     10000\n",
      "weighted avg       0.98      0.98      0.98     10000\n",
      "\n",
      "\n",
      "Testing Confusion Matrix:\n",
      "\n"
     ]
    },
    {
     "data": {
      "text/plain": [
       "<Figure size 432x288 with 0 Axes>"
      ]
     },
     "execution_count": 6,
     "metadata": {},
     "output_type": "execute_result"
    },
    {
     "data": {
      "image/png": "[encoded data removed]",
      "text/plain": [
       "<Figure size 432x288 with 2 Axes>"
      ]
     },
     "metadata": {
      "needs_background": "light"
     },
     "output_type": "display_data"
    },
    {
     "data": {
      "text/plain": [
       "<Figure size 432x288 with 0 Axes>"
      ]
     },
     "metadata": {},
     "output_type": "display_data"
    }
   ],
   "source": [
    "from sklearn.ensemble import HistGradientBoostingClassifier\n",
    "\n",
    "(trainX, trainY), (testX, testY) = mnist.load_data()\n",
    "\n",
    "# preprocess the data\n",
    "trainX = trainX.reshape(trainX.shape[0], trainX.shape[1] * trainX.shape[2])\n",
    "trainX = trainX.astype('float')/255.0\n",
    "\n",
    "testX = testX.reshape(testX.shape[0], testX.shape[1] * testX.shape[2])\n",
    "testX = testX.astype('float')/255.0\n",
    "\n",
    "# build the classifier\n",
    "model = HistGradientBoostingClassifier(verbose = 1)\n",
    "\n",
    "# fit the classifier to the training data\n",
    "model.fit(trainX, trainY)\n",
    "\n",
    "# predict the labels of the training set\n",
    "predictedY = model.predict(trainX)\n",
    "\n",
    "# print quality metrics\n",
    "print('\\nTraining Classification Report:\\n\\n', classification_report(trainY, predictedY))\n",
    "\n",
    "# predict the labels of the test set\n",
    "predictedY = model.predict(testX)\n",
    "\n",
    "# print quality metrics\n",
    "print('\\nTesting Classification Report:\\n\\n', classification_report(testY, predictedY))\n",
    "\n",
    "# predict the labels of the test set\n",
    "predictedY = model.predict(testX)\n",
    "\n",
    "print('\\nTesting Confusion Matrix:\\n')\n",
    "\n",
    "sn.heatmap(confusion_matrix(testY, predictedY))\n",
    "plt.figure()"
   ]
  },
  {
   "cell_type": "markdown",
   "id": "cfc806b8-0509-4274-9c67-ce84db419fd4",
   "metadata": {},
   "source": [
    "This method runs way faster and has better accuracy."
   ]
  },
  {
   "cell_type": "markdown",
   "id": "80731658-26e2-4928-a52b-d0f73e374ad6",
   "metadata": {},
   "source": [
    "## CIFAR-10 Examples"
   ]
  },
  {
   "cell_type": "code",
   "execution_count": 13,
   "id": "5c92c118-e6f5-4a0b-9794-048a17525ca5",
   "metadata": {},
   "outputs": [
    {
     "name": "stderr",
     "output_type": "stream",
     "text": [
      "[Parallel(n_jobs=-1)]: Using backend ThreadingBackend with 32 concurrent workers.\n"
     ]
    },
    {
     "name": "stdout",
     "output_type": "stream",
     "text": [
      "building tree 1 of 100building tree 2 of 100building tree 3 of 100\n",
      "\n",
      "building tree 4 of 100\n",
      "\n",
      "building tree 5 of 100\n",
      "building tree 6 of 100building tree 7 of 100\n",
      "building tree 8 of 100\n",
      "\n",
      "building tree 9 of 100building tree 10 of 100building tree 11 of 100\n",
      "building tree 12 of 100\n",
      "\n",
      "\n",
      "building tree 13 of 100\n",
      "building tree 14 of 100building tree 15 of 100\n",
      "\n",
      "building tree 16 of 100building tree 17 of 100\n",
      "\n",
      "building tree 18 of 100\n",
      "building tree 19 of 100building tree 20 of 100\n",
      "building tree 21 of 100\n",
      "\n",
      "building tree 22 of 100building tree 23 of 100\n",
      "\n",
      "building tree 24 of 100\n",
      "building tree 25 of 100\n",
      "building tree 26 of 100building tree 27 of 100\n",
      "\n",
      "building tree 28 of 100\n",
      "building tree 29 of 100\n",
      "building tree 30 of 100\n",
      "building tree 31 of 100building tree 32 of 100\n",
      "\n",
      "building tree 33 of 100\n",
      "building tree 34 of 100\n",
      "building tree 35 of 100\n",
      "building tree 36 of 100\n",
      "building tree 37 of 100\n",
      "building tree 38 of 100\n",
      "building tree 39 of 100\n",
      "building tree 40 of 100\n",
      "building tree 41 of 100\n",
      "building tree 42 of 100\n",
      "building tree 43 of 100\n",
      "building tree 44 of 100\n",
      "building tree 45 of 100\n",
      "building tree 46 of 100\n",
      "building tree 47 of 100\n",
      "building tree 48 of 100\n",
      "building tree 49 of 100\n",
      "building tree 50 of 100\n",
      "building tree 51 of 100\n",
      "building tree 52 of 100\n",
      "building tree 53 of 100building tree 54 of 100\n",
      "\n",
      "building tree 55 of 100\n",
      "building tree 56 of 100\n",
      "building tree 57 of 100\n",
      "building tree 58 of 100\n",
      "building tree 59 of 100\n",
      "building tree 60 of 100\n",
      "building tree 61 of 100\n",
      "building tree 62 of 100\n",
      "building tree 63 of 100\n",
      "building tree 64 of 100\n",
      "building tree 65 of 100\n",
      "building tree 66 of 100\n",
      "building tree 67 of 100\n",
      "building tree 68 of 100\n",
      "building tree 69 of 100\n",
      "building tree 70 of 100\n",
      "building tree 71 of 100\n",
      "building tree 72 of 100\n",
      "building tree 73 of 100\n",
      "building tree 74 of 100\n",
      "building tree 75 of 100\n",
      "building tree 76 of 100\n",
      "building tree 77 of 100\n",
      "building tree 78 of 100\n",
      "building tree 79 of 100\n",
      "building tree 80 of 100\n",
      "building tree 81 of 100\n",
      "building tree 82 of 100\n",
      "building tree 83 of 100\n",
      "building tree 84 of 100\n",
      "building tree 85 of 100\n",
      "building tree 86 of 100\n",
      "building tree 87 of 100\n",
      "building tree 88 of 100\n",
      "building tree 89 of 100\n",
      "building tree 90 of 100\n",
      "building tree 91 of 100\n",
      "building tree 92 of 100\n",
      "building tree 93 of 100\n",
      "building tree 94 of 100\n",
      "building tree 95 of 100\n",
      "building tree 96 of 100\n",
      "building tree 97 of 100\n",
      "building tree 98 of 100\n",
      "building tree 99 of 100\n",
      "building tree 100 of 100\n"
     ]
    },
    {
     "name": "stderr",
     "output_type": "stream",
     "text": [
      "[Parallel(n_jobs=-1)]: Done  88 out of 100 | elapsed:    6.1s remaining:    0.7s\n",
      "[Parallel(n_jobs=-1)]: Done 100 out of 100 | elapsed:    6.8s finished\n",
      "[Parallel(n_jobs=32)]: Using backend ThreadingBackend with 32 concurrent workers.\n",
      "[Parallel(n_jobs=32)]: Done  88 out of 100 | elapsed:    0.3s remaining:    0.0s\n",
      "[Parallel(n_jobs=32)]: Done 100 out of 100 | elapsed:    0.3s finished\n",
      "[Parallel(n_jobs=32)]: Using backend ThreadingBackend with 32 concurrent workers.\n",
      "[Parallel(n_jobs=32)]: Done  88 out of 100 | elapsed:    0.0s remaining:    0.0s\n"
     ]
    },
    {
     "name": "stdout",
     "output_type": "stream",
     "text": [
      "\n",
      "Training Classification Report:\n",
      "\n",
      "               precision    recall  f1-score   support\n",
      "\n",
      "           0       1.00      1.00      1.00      5000\n",
      "           1       1.00      1.00      1.00      5000\n",
      "           2       1.00      1.00      1.00      5000\n",
      "           3       1.00      1.00      1.00      5000\n",
      "           4       1.00      1.00      1.00      5000\n",
      "           5       1.00      1.00      1.00      5000\n",
      "           6       1.00      1.00      1.00      5000\n",
      "           7       1.00      1.00      1.00      5000\n",
      "           8       1.00      1.00      1.00      5000\n",
      "           9       1.00      1.00      1.00      5000\n",
      "\n",
      "    accuracy                           1.00     50000\n",
      "   macro avg       1.00      1.00      1.00     50000\n",
      "weighted avg       1.00      1.00      1.00     50000\n",
      "\n",
      "\n",
      "Testing Classification Report:\n",
      "\n",
      "               precision    recall  f1-score   support\n",
      "\n",
      "           0       0.55      0.57      0.56      1000\n",
      "           1       0.52      0.55      0.54      1000\n",
      "           2       0.38      0.33      0.36      1000\n",
      "           3       0.34      0.29      0.31      1000\n",
      "           4       0.40      0.41      0.41      1000\n",
      "           5       0.42      0.39      0.40      1000\n",
      "           6       0.47      0.55      0.51      1000\n",
      "           7       0.55      0.46      0.50      1000\n",
      "           8       0.58      0.62      0.60      1000\n",
      "           9       0.48      0.55      0.51      1000\n",
      "\n",
      "    accuracy                           0.47     10000\n",
      "   macro avg       0.47      0.47      0.47     10000\n",
      "weighted avg       0.47      0.47      0.47     10000\n",
      "\n",
      "\n",
      "Testing Confusion Matrix:\n",
      "\n"
     ]
    },
    {
     "name": "stderr",
     "output_type": "stream",
     "text": [
      "[Parallel(n_jobs=32)]: Done 100 out of 100 | elapsed:    0.0s finished\n",
      "[Parallel(n_jobs=32)]: Using backend ThreadingBackend with 32 concurrent workers.\n",
      "[Parallel(n_jobs=32)]: Done  88 out of 100 | elapsed:    0.0s remaining:    0.0s\n",
      "[Parallel(n_jobs=32)]: Done 100 out of 100 | elapsed:    0.0s finished\n"
     ]
    },
    {
     "data": {
      "text/plain": [
       "<Figure size 432x288 with 0 Axes>"
      ]
     },
     "execution_count": 13,
     "metadata": {},
     "output_type": "execute_result"
    },
    {
     "data": {
      "image/png": "[encoded data removed]",
      "text/plain": [
       "<Figure size 432x288 with 2 Axes>"
      ]
     },
     "metadata": {
      "needs_background": "light"
     },
     "output_type": "display_data"
    },
    {
     "data": {
      "text/plain": [
       "<Figure size 432x288 with 0 Axes>"
      ]
     },
     "metadata": {},
     "output_type": "display_data"
    }
   ],
   "source": [
    "from sklearn.ensemble import ExtraTreesClassifier\n",
    "\n",
    "(trainX, trainY), (testX, testY) = cifar10.load_data()\n",
    "\n",
    "# preprocess the data\n",
    "trainX = trainX.reshape(trainX.shape[0], trainX.shape[1] * trainX.shape[2] * 3)\n",
    "trainX = trainX.astype('float')/255.0\n",
    "\n",
    "testX = testX.reshape(testX.shape[0], testX.shape[1] * testX.shape[2] * 3)\n",
    "testX = testX.astype('float')/255.0\n",
    "\n",
    "# build the classifier\n",
    "model = ExtraTreesClassifier(verbose = 2, n_jobs = -1)\n",
    "\n",
    "# fit the classifier to the training data\n",
    "model.fit(trainX, trainY.ravel())\n",
    "\n",
    "# predict the labels of the training set\n",
    "predictedY = model.predict(trainX)\n",
    "\n",
    "# print quality metrics\n",
    "print('\\nTraining Classification Report:\\n\\n', classification_report(trainY, predictedY))\n",
    "\n",
    "# predict the labels of the test set\n",
    "predictedY = model.predict(testX)\n",
    "\n",
    "# print quality metrics\n",
    "print('\\nTesting Classification Report:\\n\\n', classification_report(testY, predictedY))\n",
    "\n",
    "# predict the labels of the test set\n",
    "predictedY = model.predict(testX)\n",
    "\n",
    "print('\\nTesting Confusion Matrix:\\n')\n",
    "\n",
    "sn.heatmap(confusion_matrix(testY, predictedY))\n",
    "plt.figure()"
   ]
  },
  {
   "cell_type": "markdown",
   "id": "9171f554-c0d2-4fe3-ae90-9e43259c7051",
   "metadata": {},
   "source": [
    "### Breast Cancer Classification"
   ]
  },
  {
   "cell_type": "code",
   "execution_count": 16,
   "id": "faebb527-03a3-457c-8f51-7d707fab5995",
   "metadata": {},
   "outputs": [],
   "source": [
    "from xgboost import XGBClassifier"
   ]
  },
  {
   "cell_type": "code",
   "execution_count": 27,
   "id": "ea136308-bfad-4e19-9cff-5aade22fd971",
   "metadata": {},
   "outputs": [
    {
     "name": "stdout",
     "output_type": "stream",
     "text": [
      "[23:21:13] WARNING: C:/Users/Administrator/workspace/xgboost-win64_release_1.5.1/src/learner.cc:1115: Starting in XGBoost 1.3.0, the default evaluation metric used with the objective 'binary:logistic' was changed from 'error' to 'logloss'. Explicitly set eval_metric if you'd like to restore the old behavior.\n",
      "[0]\tvalidation_0-logloss:0.45594\n",
      "[1]\tvalidation_0-logloss:0.33100\n",
      "[2]\tvalidation_0-logloss:0.25211\n",
      "[3]\tvalidation_0-logloss:0.19699\n",
      "[4]\tvalidation_0-logloss:0.15478\n",
      "[5]\tvalidation_0-logloss:0.12618\n",
      "[6]\tvalidation_0-logloss:0.10818\n",
      "[7]\tvalidation_0-logloss:0.09551\n",
      "[8]\tvalidation_0-logloss:0.08214\n",
      "[9]\tvalidation_0-logloss:0.07518\n",
      "[10]\tvalidation_0-logloss:0.06873\n",
      "[11]\tvalidation_0-logloss:0.06348\n",
      "[12]\tvalidation_0-logloss:0.05953\n",
      "[13]\tvalidation_0-logloss:0.05945\n",
      "[14]\tvalidation_0-logloss:0.05552\n",
      "[15]\tvalidation_0-logloss:0.05261\n",
      "[16]\tvalidation_0-logloss:0.05027\n",
      "[17]\tvalidation_0-logloss:0.05126\n",
      "[18]\tvalidation_0-logloss:0.05253\n",
      "[19]\tvalidation_0-logloss:0.05111\n",
      "[20]\tvalidation_0-logloss:0.04777\n",
      "[21]\tvalidation_0-logloss:0.04477\n",
      "[22]\tvalidation_0-logloss:0.04304\n",
      "[23]\tvalidation_0-logloss:0.04160\n",
      "[24]\tvalidation_0-logloss:0.03900\n",
      "[25]\tvalidation_0-logloss:0.03990\n",
      "[26]\tvalidation_0-logloss:0.03949\n",
      "[27]\tvalidation_0-logloss:0.04051\n",
      "[28]\tvalidation_0-logloss:0.04163\n",
      "[29]\tvalidation_0-logloss:0.04085\n",
      "[30]\tvalidation_0-logloss:0.04237\n",
      "[31]\tvalidation_0-logloss:0.04197\n",
      "[32]\tvalidation_0-logloss:0.04007\n",
      "[33]\tvalidation_0-logloss:0.03855\n",
      "[34]\tvalidation_0-logloss:0.04012\n",
      "[35]\tvalidation_0-logloss:0.03995\n",
      "[36]\tvalidation_0-logloss:0.03995\n",
      "[37]\tvalidation_0-logloss:0.04111\n",
      "[38]\tvalidation_0-logloss:0.04095\n",
      "[39]\tvalidation_0-logloss:0.04035\n",
      "[40]\tvalidation_0-logloss:0.03907\n",
      "[41]\tvalidation_0-logloss:0.03849\n",
      "[42]\tvalidation_0-logloss:0.03850\n",
      "[43]\tvalidation_0-logloss:0.03904\n",
      "[44]\tvalidation_0-logloss:0.03858\n",
      "[45]\tvalidation_0-logloss:0.03849\n",
      "[46]\tvalidation_0-logloss:0.03769\n",
      "[47]\tvalidation_0-logloss:0.03838\n",
      "[48]\tvalidation_0-logloss:0.03764\n",
      "[49]\tvalidation_0-logloss:0.03837\n",
      "[50]\tvalidation_0-logloss:0.03888\n",
      "[51]\tvalidation_0-logloss:0.03827\n",
      "[52]\tvalidation_0-logloss:0.03752\n",
      "[53]\tvalidation_0-logloss:0.03812\n",
      "[54]\tvalidation_0-logloss:0.03895\n",
      "[55]\tvalidation_0-logloss:0.03822\n",
      "[56]\tvalidation_0-logloss:0.03767\n",
      "[57]\tvalidation_0-logloss:0.03829\n",
      "[58]\tvalidation_0-logloss:0.03875\n",
      "[59]\tvalidation_0-logloss:0.03807\n",
      "[60]\tvalidation_0-logloss:0.03874\n",
      "[61]\tvalidation_0-logloss:0.03805\n",
      "[62]\tvalidation_0-logloss:0.03752\n",
      "[63]\tvalidation_0-logloss:0.03807\n",
      "[64]\tvalidation_0-logloss:0.03744\n",
      "[65]\tvalidation_0-logloss:0.03809\n",
      "[66]\tvalidation_0-logloss:0.03852\n",
      "[67]\tvalidation_0-logloss:0.03849\n",
      "[68]\tvalidation_0-logloss:0.03849\n",
      "[69]\tvalidation_0-logloss:0.03785\n",
      "[70]\tvalidation_0-logloss:0.03836\n",
      "[71]\tvalidation_0-logloss:0.03833\n",
      "[72]\tvalidation_0-logloss:0.03876\n",
      "[73]\tvalidation_0-logloss:0.03938\n",
      "[74]\tvalidation_0-logloss:0.03879\n",
      "[75]\tvalidation_0-logloss:0.03931\n",
      "[76]\tvalidation_0-logloss:0.03947\n",
      "[77]\tvalidation_0-logloss:0.03947\n",
      "[78]\tvalidation_0-logloss:0.03891\n",
      "[79]\tvalidation_0-logloss:0.03940\n",
      "[80]\tvalidation_0-logloss:0.03938\n",
      "[81]\tvalidation_0-logloss:0.03979\n",
      "[82]\tvalidation_0-logloss:0.03913\n",
      "[83]\tvalidation_0-logloss:0.03914\n",
      "[84]\tvalidation_0-logloss:0.03953\n",
      "[85]\tvalidation_0-logloss:0.04010\n",
      "[86]\tvalidation_0-logloss:0.03968\n",
      "[87]\tvalidation_0-logloss:0.03914\n",
      "[88]\tvalidation_0-logloss:0.03911\n",
      "[89]\tvalidation_0-logloss:0.03860\n",
      "[90]\tvalidation_0-logloss:0.03799\n",
      "[91]\tvalidation_0-logloss:0.03839\n",
      "[92]\tvalidation_0-logloss:0.03891\n",
      "[93]\tvalidation_0-logloss:0.03839\n",
      "[94]\tvalidation_0-logloss:0.03839\n",
      "[95]\tvalidation_0-logloss:0.03853\n",
      "[96]\tvalidation_0-logloss:0.03802\n",
      "[97]\tvalidation_0-logloss:0.03853\n",
      "[98]\tvalidation_0-logloss:0.03890\n",
      "[99]\tvalidation_0-logloss:0.03833\n",
      "\n",
      "Training Classification Report:\n",
      "\n",
      "               precision    recall  f1-score   support\n",
      "\n",
      "           0       1.00      1.00      1.00       164\n",
      "           1       1.00      1.00      1.00       262\n",
      "\n",
      "    accuracy                           1.00       426\n",
      "   macro avg       1.00      1.00      1.00       426\n",
      "weighted avg       1.00      1.00      1.00       426\n",
      "\n",
      "\n",
      "Testing Classification Report:\n",
      "\n",
      "               precision    recall  f1-score   support\n",
      "\n",
      "           0       0.96      0.93      0.94        27\n",
      "           1       0.96      0.98      0.97        45\n",
      "\n",
      "    accuracy                           0.96        72\n",
      "   macro avg       0.96      0.95      0.96        72\n",
      "weighted avg       0.96      0.96      0.96        72\n",
      "\n",
      "\n",
      "Testing Confusion Matrix:\n",
      "\n"
     ]
    },
    {
     "data": {
      "text/plain": [
       "<Figure size 432x288 with 0 Axes>"
      ]
     },
     "execution_count": 27,
     "metadata": {},
     "output_type": "execute_result"
    },
    {
     "data": {
      "image/png": "[encoded data removed]",
      "text/plain": [
       "<Figure size 432x288 with 2 Axes>"
      ]
     },
     "metadata": {
      "needs_background": "light"
     },
     "output_type": "display_data"
    },
    {
     "data": {
      "text/plain": [
       "<Figure size 432x288 with 0 Axes>"
      ]
     },
     "metadata": {},
     "output_type": "display_data"
    }
   ],
   "source": [
    "cancer = load_breast_cancer()\n",
    "\n",
    "X = cancer['data']\n",
    "Y = cancer['target']\n",
    "\n",
    "# split the data into train and test sets\n",
    "trainX, testX, trainY, testY = train_test_split(X, Y, test_size = 0.25)\n",
    "valX, testX, valY, testY = train_test_split(testX, testY, test_size = 0.5)\n",
    "\n",
    "# build the classifier\n",
    "model = XGBClassifier(n_jobs = -1)\n",
    "\n",
    "# fit the classifier to the training data\n",
    "model.fit(trainX, trainY, eval_set = [(valX, valY)])\n",
    "\n",
    "# predict the labels of the training set\n",
    "predictedY = model.predict(trainX)\n",
    "\n",
    "# print quality metrics\n",
    "print('\\nTraining Classification Report:\\n\\n', classification_report(trainY, predictedY))\n",
    "\n",
    "# predict the labels of the test set\n",
    "predictedY = model.predict(testX)\n",
    "\n",
    "# print quality metricsl\n",
    "print('\\nTesting Classification Report:\\n\\n', classification_report(testY, predictedY))\n",
    "\n",
    "# predict the labels of the test set\n",
    "predictedY = model.predict(testX)\n",
    "\n",
    "print('\\nTesting Confusion Matrix:\\n')\n",
    "\n",
    "sn.heatmap(confusion_matrix(testY, predictedY))\n",
    "plt.figure()"
   ]
  },
  {
   "cell_type": "code",
   "execution_count": 28,
   "id": "42cccb0a-6aed-4e03-8cbb-3cf508e6ad26",
   "metadata": {},
   "outputs": [
    {
     "data": {
      "image/png": "[encoded data removed]",
      "text/plain": [
       "<Figure size 432x288 with 1 Axes>"
      ]
     },
     "metadata": {
      "needs_background": "light"
     },
     "output_type": "display_data"
    }
   ],
   "source": [
    "result = permutation_importance(model, testX, testY, n_repeats = 10, n_jobs = -1)\n",
    "sorted_idx = result.importances_mean.argsort()\n",
    "\n",
    "fig, ax = plt.subplots()\n",
    "ax.boxplot(result.importances[sorted_idx].T, vert = False,\n",
    "           labels = cancer.feature_names[sorted_idx])\n",
    "ax.set_title(\"Permutation Importances (test set)\")\n",
    "fig.tight_layout()\n",
    "plt.show()"
   ]
  },
  {
   "cell_type": "markdown",
   "id": "64cd5693-9751-4760-a362-ef1e8eb43a94",
   "metadata": {},
   "source": [
    "### Wine Example"
   ]
  },
  {
   "cell_type": "code",
   "execution_count": 29,
   "id": "ffdae9a4-007e-4665-bcc7-6febe871f57e",
   "metadata": {},
   "outputs": [
    {
     "name": "stdout",
     "output_type": "stream",
     "text": [
      "[23:22:04] WARNING: C:/Users/Administrator/workspace/xgboost-win64_release_1.5.1/src/learner.cc:1115: Starting in XGBoost 1.3.0, the default evaluation metric used with the objective 'multi:softprob' was changed from 'merror' to 'mlogloss'. Explicitly set eval_metric if you'd like to restore the old behavior.\n",
      "[0]\tvalidation_0-mlogloss:0.89066\n",
      "[1]\tvalidation_0-mlogloss:0.69186\n",
      "[2]\tvalidation_0-mlogloss:0.58930\n",
      "[3]\tvalidation_0-mlogloss:0.52835\n",
      "[4]\tvalidation_0-mlogloss:0.45808\n",
      "[5]\tvalidation_0-mlogloss:0.38577\n",
      "[6]\tvalidation_0-mlogloss:0.33619\n",
      "[7]\tvalidation_0-mlogloss:0.30202\n",
      "[8]\tvalidation_0-mlogloss:0.29147\n",
      "[9]\tvalidation_0-mlogloss:0.24931\n",
      "[10]\tvalidation_0-mlogloss:0.22095\n",
      "[11]\tvalidation_0-mlogloss:0.20778\n",
      "[12]\tvalidation_0-mlogloss:0.18805\n",
      "[13]\tvalidation_0-mlogloss:0.18118\n",
      "[14]\tvalidation_0-mlogloss:0.16026\n",
      "[15]\tvalidation_0-mlogloss:0.16059\n",
      "[16]\tvalidation_0-mlogloss:0.15153\n",
      "[17]\tvalidation_0-mlogloss:0.13565\n",
      "[18]\tvalidation_0-mlogloss:0.13367\n",
      "[19]\tvalidation_0-mlogloss:0.12542\n",
      "[20]\tvalidation_0-mlogloss:0.12337\n",
      "[21]\tvalidation_0-mlogloss:0.12001\n",
      "[22]\tvalidation_0-mlogloss:0.11491\n",
      "[23]\tvalidation_0-mlogloss:0.11372\n",
      "[24]\tvalidation_0-mlogloss:0.10815\n",
      "[25]\tvalidation_0-mlogloss:0.10772\n",
      "[26]\tvalidation_0-mlogloss:0.10566\n",
      "[27]\tvalidation_0-mlogloss:0.10383\n",
      "[28]\tvalidation_0-mlogloss:0.10387\n",
      "[29]\tvalidation_0-mlogloss:0.10294\n",
      "[30]\tvalidation_0-mlogloss:0.10244\n",
      "[31]\tvalidation_0-mlogloss:0.10256\n",
      "[32]\tvalidation_0-mlogloss:0.10212\n",
      "[33]\tvalidation_0-mlogloss:0.10319\n",
      "[34]\tvalidation_0-mlogloss:0.10419\n",
      "[35]\tvalidation_0-mlogloss:0.10423\n",
      "[36]\tvalidation_0-mlogloss:0.10382\n",
      "[37]\tvalidation_0-mlogloss:0.10387\n",
      "[38]\tvalidation_0-mlogloss:0.10350\n",
      "[39]\tvalidation_0-mlogloss:0.10348\n",
      "[40]\tvalidation_0-mlogloss:0.10321\n",
      "[41]\tvalidation_0-mlogloss:0.10330\n",
      "[42]\tvalidation_0-mlogloss:0.10303\n",
      "[43]\tvalidation_0-mlogloss:0.10284\n",
      "[44]\tvalidation_0-mlogloss:0.10293\n",
      "[45]\tvalidation_0-mlogloss:0.10273\n",
      "[46]\tvalidation_0-mlogloss:0.10260\n",
      "[47]\tvalidation_0-mlogloss:0.10270\n",
      "[48]\tvalidation_0-mlogloss:0.10278\n",
      "[49]\tvalidation_0-mlogloss:0.10264\n",
      "[50]\tvalidation_0-mlogloss:0.10273\n",
      "[51]\tvalidation_0-mlogloss:0.10279\n",
      "[52]\tvalidation_0-mlogloss:0.10284\n",
      "[53]\tvalidation_0-mlogloss:0.10287\n",
      "[54]\tvalidation_0-mlogloss:0.10289\n",
      "[55]\tvalidation_0-mlogloss:0.10299\n",
      "[56]\tvalidation_0-mlogloss:0.10303\n",
      "[57]\tvalidation_0-mlogloss:0.10305\n",
      "[58]\tvalidation_0-mlogloss:0.10307\n",
      "[59]\tvalidation_0-mlogloss:0.10307\n",
      "[60]\tvalidation_0-mlogloss:0.10302\n",
      "[61]\tvalidation_0-mlogloss:0.10297\n",
      "[62]\tvalidation_0-mlogloss:0.10293\n",
      "[63]\tvalidation_0-mlogloss:0.10290\n",
      "[64]\tvalidation_0-mlogloss:0.10287\n",
      "[65]\tvalidation_0-mlogloss:0.10285\n",
      "[66]\tvalidation_0-mlogloss:0.10282\n",
      "[67]\tvalidation_0-mlogloss:0.10280\n",
      "[68]\tvalidation_0-mlogloss:0.10279\n",
      "[69]\tvalidation_0-mlogloss:0.10278\n",
      "[70]\tvalidation_0-mlogloss:0.10276\n",
      "[71]\tvalidation_0-mlogloss:0.10275\n",
      "[72]\tvalidation_0-mlogloss:0.10274\n",
      "[73]\tvalidation_0-mlogloss:0.10274\n",
      "[74]\tvalidation_0-mlogloss:0.10273\n",
      "[75]\tvalidation_0-mlogloss:0.10272\n",
      "[76]\tvalidation_0-mlogloss:0.10272\n",
      "[77]\tvalidation_0-mlogloss:0.10271\n",
      "[78]\tvalidation_0-mlogloss:0.10271\n",
      "[79]\tvalidation_0-mlogloss:0.10271\n",
      "[80]\tvalidation_0-mlogloss:0.10270\n",
      "[81]\tvalidation_0-mlogloss:0.10270\n",
      "[82]\tvalidation_0-mlogloss:0.10270\n",
      "[83]\tvalidation_0-mlogloss:0.10270\n",
      "[84]\tvalidation_0-mlogloss:0.10269\n",
      "[85]\tvalidation_0-mlogloss:0.10269\n",
      "[86]\tvalidation_0-mlogloss:0.10269\n",
      "[87]\tvalidation_0-mlogloss:0.10269\n",
      "[88]\tvalidation_0-mlogloss:0.10269\n",
      "[89]\tvalidation_0-mlogloss:0.10269\n",
      "[90]\tvalidation_0-mlogloss:0.10269\n",
      "[91]\tvalidation_0-mlogloss:0.10269\n",
      "[92]\tvalidation_0-mlogloss:0.10269\n",
      "[93]\tvalidation_0-mlogloss:0.10269\n",
      "[94]\tvalidation_0-mlogloss:0.10269\n",
      "[95]\tvalidation_0-mlogloss:0.10269\n",
      "[96]\tvalidation_0-mlogloss:0.10269\n",
      "[97]\tvalidation_0-mlogloss:0.10268\n",
      "[98]\tvalidation_0-mlogloss:0.10268\n",
      "[99]\tvalidation_0-mlogloss:0.10268\n",
      "\n",
      "Training Classification Report:\n",
      "\n",
      "               precision    recall  f1-score   support\n",
      "\n",
      "           0       1.00      1.00      1.00        52\n",
      "           1       1.00      1.00      1.00        49\n",
      "           2       1.00      1.00      1.00        32\n",
      "\n",
      "    accuracy                           1.00       133\n",
      "   macro avg       1.00      1.00      1.00       133\n",
      "weighted avg       1.00      1.00      1.00       133\n",
      "\n",
      "\n",
      "Testing Classification Report:\n",
      "\n",
      "               precision    recall  f1-score   support\n",
      "\n",
      "           0       1.00      1.00      1.00         3\n",
      "           1       1.00      1.00      1.00        12\n",
      "           2       1.00      1.00      1.00         8\n",
      "\n",
      "    accuracy                           1.00        23\n",
      "   macro avg       1.00      1.00      1.00        23\n",
      "weighted avg       1.00      1.00      1.00        23\n",
      "\n",
      "\n",
      "Testing Confusion Matrix:\n",
      "\n"
     ]
    },
    {
     "name": "stderr",
     "output_type": "stream",
     "text": [
      "C:\\Users\\Ryan\\miniconda3\\envs\\DL\\lib\\site-packages\\xgboost\\sklearn.py:1224: UserWarning: The use of label encoder in XGBClassifier is deprecated and will be removed in a future release. To remove this warning, do the following: 1) Pass option use_label_encoder=False when constructing XGBClassifier object; and 2) Encode your labels (y) as integers starting with 0, i.e. 0, 1, 2, ..., [num_class - 1].\n",
      "  warnings.warn(label_encoder_deprecation_msg, UserWarning)\n"
     ]
    },
    {
     "data": {
      "text/plain": [
       "<Figure size 432x288 with 0 Axes>"
      ]
     },
     "execution_count": 29,
     "metadata": {},
     "output_type": "execute_result"
    },
    {
     "data": {
      "image/png": "[encoded data removed]",
      "text/plain": [
       "<Figure size 432x288 with 2 Axes>"
      ]
     },
     "metadata": {
      "needs_background": "light"
     },
     "output_type": "display_data"
    },
    {
     "data": {
      "text/plain": [
       "<Figure size 432x288 with 0 Axes>"
      ]
     },
     "metadata": {},
     "output_type": "display_data"
    }
   ],
   "source": [
    "wine = load_wine()\n",
    "\n",
    "X = wine['data']\n",
    "Y = wine['target']\n",
    "\n",
    "# split the data into train and test sets\n",
    "trainX, testX, trainY, testY = train_test_split(X, Y, test_size = 0.25)\n",
    "valX, testX, valY, testY = train_test_split(testX, testY, test_size = 0.5)\n",
    "\n",
    "# build the classifier\n",
    "model = XGBClassifier(n_jobs = -1)\n",
    "\n",
    "# fit the classifier to the training data\n",
    "model.fit(trainX, trainY, eval_set = [(valX, valY)])\n",
    "\n",
    "# predict the labels of the training set\n",
    "predictedY = model.predict(trainX)\n",
    "\n",
    "# print quality metrics\n",
    "print('\\nTraining Classification Report:\\n\\n', classification_report(trainY, predictedY))\n",
    "\n",
    "# predict the labels of the test set\n",
    "predictedY = model.predict(testX)\n",
    "\n",
    "# print quality metrics\n",
    "print('\\nTesting Classification Report:\\n\\n', classification_report(testY, predictedY))\n",
    "\n",
    "# predict the labels of the test set\n",
    "predictedY = model.predict(testX)\n",
    "\n",
    "print('\\nTesting Confusion Matrix:\\n')\n",
    "\n",
    "sn.heatmap(confusion_matrix(testY, predictedY))\n",
    "plt.figure()"
   ]
  },
  {
   "cell_type": "code",
   "execution_count": 30,
   "id": "316d065b-0e45-4316-82c4-79443c744d17",
   "metadata": {},
   "outputs": [
    {
     "data": {
      "image/png": "[encoded data removed]",
      "text/plain": [
       "<Figure size 432x288 with 1 Axes>"
      ]
     },
     "metadata": {
      "needs_background": "light"
     },
     "output_type": "display_data"
    }
   ],
   "source": [
    "result = permutation_importance(model, testX, testY, n_repeats = 10, n_jobs = -1)\n",
    "sorted_idx = result.importances_mean.argsort()\n",
    "\n",
    "fig, ax = plt.subplots()\n",
    "ax.boxplot(result.importances[sorted_idx].T, vert = False,\n",
    "           labels = np.array(wine.feature_names)[sorted_idx])\n",
    "ax.set_title(\"Permutation Importances (test set)\")\n",
    "fig.tight_layout()\n",
    "plt.show()"
   ]
  },
  {
   "cell_type": "markdown",
   "id": "9d76807b-700c-43c8-80d6-dc254a0b4bc9",
   "metadata": {},
   "source": [
    "### MNIST Example"
   ]
  },
  {
   "cell_type": "code",
   "execution_count": 31,
   "id": "64765edf-9d1e-456f-95c9-50642b589098",
   "metadata": {},
   "outputs": [
    {
     "name": "stderr",
     "output_type": "stream",
     "text": [
      "C:\\Users\\Ryan\\miniconda3\\envs\\DL\\lib\\site-packages\\xgboost\\sklearn.py:1224: UserWarning: The use of label encoder in XGBClassifier is deprecated and will be removed in a future release. To remove this warning, do the following: 1) Pass option use_label_encoder=False when constructing XGBClassifier object; and 2) Encode your labels (y) as integers starting with 0, i.e. 0, 1, 2, ..., [num_class - 1].\n",
      "  warnings.warn(label_encoder_deprecation_msg, UserWarning)\n"
     ]
    },
    {
     "name": "stdout",
     "output_type": "stream",
     "text": [
      "[23:22:41] WARNING: C:/Users/Administrator/workspace/xgboost-win64_release_1.5.1/src/learner.cc:1115: Starting in XGBoost 1.3.0, the default evaluation metric used with the objective 'multi:softprob' was changed from 'merror' to 'mlogloss'. Explicitly set eval_metric if you'd like to restore the old behavior.\n",
      "[0]\tvalidation_0-mlogloss:1.37077\n",
      "[1]\tvalidation_0-mlogloss:1.05099\n",
      "[2]\tvalidation_0-mlogloss:0.84082\n",
      "[3]\tvalidation_0-mlogloss:0.69238\n",
      "[4]\tvalidation_0-mlogloss:0.58026\n",
      "[5]\tvalidation_0-mlogloss:0.49551\n",
      "[6]\tvalidation_0-mlogloss:0.43004\n",
      "[7]\tvalidation_0-mlogloss:0.37868\n",
      "[8]\tvalidation_0-mlogloss:0.33703\n",
      "[9]\tvalidation_0-mlogloss:0.30279\n",
      "[10]\tvalidation_0-mlogloss:0.27499\n",
      "[11]\tvalidation_0-mlogloss:0.25283\n",
      "[12]\tvalidation_0-mlogloss:0.23451\n",
      "[13]\tvalidation_0-mlogloss:0.21916\n",
      "[14]\tvalidation_0-mlogloss:0.20493\n",
      "[15]\tvalidation_0-mlogloss:0.19385\n",
      "[16]\tvalidation_0-mlogloss:0.18388\n",
      "[17]\tvalidation_0-mlogloss:0.17608\n",
      "[18]\tvalidation_0-mlogloss:0.16811\n",
      "[19]\tvalidation_0-mlogloss:0.16050\n",
      "[20]\tvalidation_0-mlogloss:0.15324\n",
      "[21]\tvalidation_0-mlogloss:0.14844\n",
      "[22]\tvalidation_0-mlogloss:0.14359\n",
      "[23]\tvalidation_0-mlogloss:0.13908\n",
      "[24]\tvalidation_0-mlogloss:0.13515\n",
      "[25]\tvalidation_0-mlogloss:0.13194\n",
      "[26]\tvalidation_0-mlogloss:0.12813\n",
      "[27]\tvalidation_0-mlogloss:0.12439\n",
      "[28]\tvalidation_0-mlogloss:0.12112\n",
      "[29]\tvalidation_0-mlogloss:0.11848\n",
      "[30]\tvalidation_0-mlogloss:0.11499\n",
      "[31]\tvalidation_0-mlogloss:0.11336\n",
      "[32]\tvalidation_0-mlogloss:0.11088\n",
      "[33]\tvalidation_0-mlogloss:0.10849\n",
      "[34]\tvalidation_0-mlogloss:0.10639\n",
      "[35]\tvalidation_0-mlogloss:0.10432\n",
      "[36]\tvalidation_0-mlogloss:0.10287\n",
      "[37]\tvalidation_0-mlogloss:0.10147\n",
      "[38]\tvalidation_0-mlogloss:0.09976\n",
      "[39]\tvalidation_0-mlogloss:0.09810\n",
      "[40]\tvalidation_0-mlogloss:0.09758\n",
      "[41]\tvalidation_0-mlogloss:0.09600\n",
      "[42]\tvalidation_0-mlogloss:0.09491\n",
      "[43]\tvalidation_0-mlogloss:0.09386\n",
      "[44]\tvalidation_0-mlogloss:0.09287\n",
      "[45]\tvalidation_0-mlogloss:0.09202\n",
      "[46]\tvalidation_0-mlogloss:0.09115\n",
      "[47]\tvalidation_0-mlogloss:0.09003\n",
      "[48]\tvalidation_0-mlogloss:0.08925\n",
      "[49]\tvalidation_0-mlogloss:0.08829\n",
      "[50]\tvalidation_0-mlogloss:0.08775\n",
      "[51]\tvalidation_0-mlogloss:0.08706\n",
      "[52]\tvalidation_0-mlogloss:0.08602\n",
      "[53]\tvalidation_0-mlogloss:0.08481\n",
      "[54]\tvalidation_0-mlogloss:0.08421\n",
      "[55]\tvalidation_0-mlogloss:0.08333\n",
      "[56]\tvalidation_0-mlogloss:0.08242\n",
      "[57]\tvalidation_0-mlogloss:0.08185\n",
      "[58]\tvalidation_0-mlogloss:0.08103\n",
      "[59]\tvalidation_0-mlogloss:0.08087\n",
      "[60]\tvalidation_0-mlogloss:0.08052\n",
      "[61]\tvalidation_0-mlogloss:0.07974\n",
      "[62]\tvalidation_0-mlogloss:0.07934\n",
      "[63]\tvalidation_0-mlogloss:0.07900\n",
      "[64]\tvalidation_0-mlogloss:0.07840\n",
      "[65]\tvalidation_0-mlogloss:0.07797\n",
      "[66]\tvalidation_0-mlogloss:0.07754\n",
      "[67]\tvalidation_0-mlogloss:0.07733\n",
      "[68]\tvalidation_0-mlogloss:0.07696\n",
      "[69]\tvalidation_0-mlogloss:0.07654\n",
      "[70]\tvalidation_0-mlogloss:0.07639\n",
      "[71]\tvalidation_0-mlogloss:0.07607\n",
      "[72]\tvalidation_0-mlogloss:0.07580\n",
      "[73]\tvalidation_0-mlogloss:0.07547\n",
      "[74]\tvalidation_0-mlogloss:0.07555\n",
      "[75]\tvalidation_0-mlogloss:0.07527\n",
      "[76]\tvalidation_0-mlogloss:0.07484\n",
      "[77]\tvalidation_0-mlogloss:0.07459\n",
      "[78]\tvalidation_0-mlogloss:0.07416\n",
      "[79]\tvalidation_0-mlogloss:0.07376\n",
      "[80]\tvalidation_0-mlogloss:0.07352\n",
      "[81]\tvalidation_0-mlogloss:0.07310\n",
      "[82]\tvalidation_0-mlogloss:0.07288\n",
      "[83]\tvalidation_0-mlogloss:0.07272\n",
      "[84]\tvalidation_0-mlogloss:0.07246\n",
      "[85]\tvalidation_0-mlogloss:0.07227\n",
      "[86]\tvalidation_0-mlogloss:0.07216\n",
      "[87]\tvalidation_0-mlogloss:0.07198\n",
      "[88]\tvalidation_0-mlogloss:0.07157\n",
      "[89]\tvalidation_0-mlogloss:0.07131\n",
      "[90]\tvalidation_0-mlogloss:0.07126\n",
      "[91]\tvalidation_0-mlogloss:0.07084\n",
      "[92]\tvalidation_0-mlogloss:0.07068\n",
      "[93]\tvalidation_0-mlogloss:0.07057\n",
      "[94]\tvalidation_0-mlogloss:0.07034\n",
      "[95]\tvalidation_0-mlogloss:0.07014\n",
      "[96]\tvalidation_0-mlogloss:0.07017\n",
      "[97]\tvalidation_0-mlogloss:0.07024\n",
      "[98]\tvalidation_0-mlogloss:0.07007\n",
      "[99]\tvalidation_0-mlogloss:0.06985\n",
      "\n",
      "Training Classification Report:\n",
      "\n",
      "               precision    recall  f1-score   support\n",
      "\n",
      "           0       1.00      1.00      1.00      5923\n",
      "           1       1.00      1.00      1.00      6742\n",
      "           2       1.00      1.00      1.00      5958\n",
      "           3       1.00      1.00      1.00      6131\n",
      "           4       1.00      1.00      1.00      5842\n",
      "           5       1.00      1.00      1.00      5421\n",
      "           6       1.00      1.00      1.00      5918\n",
      "           7       1.00      1.00      1.00      6265\n",
      "           8       1.00      1.00      1.00      5851\n",
      "           9       1.00      1.00      1.00      5949\n",
      "\n",
      "    accuracy                           1.00     60000\n",
      "   macro avg       1.00      1.00      1.00     60000\n",
      "weighted avg       1.00      1.00      1.00     60000\n",
      "\n",
      "\n",
      "Testing Classification Report:\n",
      "\n",
      "               precision    recall  f1-score   support\n",
      "\n",
      "           0       0.97      0.99      0.98       482\n",
      "           1       1.00      0.99      1.00       562\n",
      "           2       0.97      0.98      0.98       545\n",
      "           3       0.98      0.98      0.98       494\n",
      "           4       0.99      0.98      0.98       487\n",
      "           5       0.98      0.98      0.98       452\n",
      "           6       0.99      0.98      0.98       478\n",
      "           7       0.98      0.97      0.98       528\n",
      "           8       0.97      0.98      0.97       466\n",
      "           9       0.98      0.97      0.97       506\n",
      "\n",
      "    accuracy                           0.98      5000\n",
      "   macro avg       0.98      0.98      0.98      5000\n",
      "weighted avg       0.98      0.98      0.98      5000\n",
      "\n",
      "\n",
      "Testing Confusion Matrix:\n",
      "\n"
     ]
    },
    {
     "data": {
      "text/plain": [
       "<Figure size 432x288 with 0 Axes>"
      ]
     },
     "execution_count": 31,
     "metadata": {},
     "output_type": "execute_result"
    },
    {
     "data": {
      "image/png": "[encoded data removed]",
      "text/plain": [
       "<Figure size 432x288 with 2 Axes>"
      ]
     },
     "metadata": {
      "needs_background": "light"
     },
     "output_type": "display_data"
    },
    {
     "data": {
      "text/plain": [
       "<Figure size 432x288 with 0 Axes>"
      ]
     },
     "metadata": {},
     "output_type": "display_data"
    }
   ],
   "source": [
    "(trainX, trainY), (testX, testY) = mnist.load_data()\n",
    "\n",
    "# preprocess the data\n",
    "trainX = trainX.reshape(trainX.shape[0], trainX.shape[1] * trainX.shape[2])\n",
    "trainX = trainX.astype('float')/255.0\n",
    "\n",
    "testX = testX.reshape(testX.shape[0], testX.shape[1] * testX.shape[2])\n",
    "testX = testX.astype('float')/255.0\n",
    "\n",
    "valX, testX, valY, testY = train_test_split(testX, testY, test_size = 0.5)\n",
    "\n",
    "# build the classifier\n",
    "model = XGBClassifier(n_jobs = -1)\n",
    "\n",
    "# fit the classifier to the training data\n",
    "model.fit(trainX, trainY, eval_set = [(valX, valY)])\n",
    "\n",
    "# predict the labels of the training set\n",
    "predictedY = model.predict(trainX)\n",
    "\n",
    "# print quality metrics\n",
    "print('\\nTraining Classification Report:\\n\\n', classification_report(trainY, predictedY))\n",
    "\n",
    "# predict the labels of the test set\n",
    "predictedY = model.predict(testX)\n",
    "\n",
    "# print quality metrics\n",
    "print('\\nTesting Classification Report:\\n\\n', classification_report(testY, predictedY))\n",
    "\n",
    "# predict the labels of the test set\n",
    "predictedY = model.predict(testX)\n",
    "\n",
    "print('\\nTesting Confusion Matrix:\\n')\n",
    "\n",
    "sn.heatmap(confusion_matrix(testY, predictedY))\n",
    "plt.figure()"
   ]
  },
  {
   "cell_type": "markdown",
   "id": "a2384663-9f83-4559-aa6b-fc9a1a3fe987",
   "metadata": {},
   "source": [
    "Let's try to tune XGBoost with 5-fold cross-validation to see if we can improve the results."
   ]
  },
  {
   "cell_type": "code",
   "execution_count": 32,
   "id": "6d966c36-15f6-411b-b4ea-50d4f63d7f46",
   "metadata": {},
   "outputs": [
    {
     "name": "stderr",
     "output_type": "stream",
     "text": [
      "C:\\Users\\Ryan\\miniconda3\\envs\\DL\\lib\\site-packages\\xgboost\\sklearn.py:1224: UserWarning: The use of label encoder in XGBClassifier is deprecated and will be removed in a future release. To remove this warning, do the following: 1) Pass option use_label_encoder=False when constructing XGBClassifier object; and 2) Encode your labels (y) as integers starting with 0, i.e. 0, 1, 2, ..., [num_class - 1].\n",
      "  warnings.warn(label_encoder_deprecation_msg, UserWarning)\n"
     ]
    },
    {
     "name": "stdout",
     "output_type": "stream",
     "text": [
      "[23:23:53] WARNING: C:/Users/Administrator/workspace/xgboost-win64_release_1.5.1/src/learner.cc:1115: Starting in XGBoost 1.3.0, the default evaluation metric used with the objective 'multi:softprob' was changed from 'merror' to 'mlogloss'. Explicitly set eval_metric if you'd like to restore the old behavior.\n",
      "[0]\tvalidation_0-mlogloss:1.37077\n",
      "[1]\tvalidation_0-mlogloss:1.05099\n",
      "[2]\tvalidation_0-mlogloss:0.84082\n",
      "[3]\tvalidation_0-mlogloss:0.69238\n",
      "[4]\tvalidation_0-mlogloss:0.58026\n",
      "[5]\tvalidation_0-mlogloss:0.49551\n",
      "[6]\tvalidation_0-mlogloss:0.43004\n",
      "[7]\tvalidation_0-mlogloss:0.37868\n",
      "[8]\tvalidation_0-mlogloss:0.33703\n",
      "[9]\tvalidation_0-mlogloss:0.30279\n",
      "[10]\tvalidation_0-mlogloss:0.27499\n",
      "[11]\tvalidation_0-mlogloss:0.25283\n",
      "[12]\tvalidation_0-mlogloss:0.23451\n",
      "[13]\tvalidation_0-mlogloss:0.21916\n",
      "[14]\tvalidation_0-mlogloss:0.20493\n",
      "[15]\tvalidation_0-mlogloss:0.19385\n",
      "[16]\tvalidation_0-mlogloss:0.18388\n",
      "[17]\tvalidation_0-mlogloss:0.17608\n",
      "[18]\tvalidation_0-mlogloss:0.16811\n",
      "[19]\tvalidation_0-mlogloss:0.16050\n",
      "[20]\tvalidation_0-mlogloss:0.15324\n",
      "[21]\tvalidation_0-mlogloss:0.14844\n",
      "[22]\tvalidation_0-mlogloss:0.14359\n",
      "[23]\tvalidation_0-mlogloss:0.13908\n",
      "[24]\tvalidation_0-mlogloss:0.13515\n",
      "[25]\tvalidation_0-mlogloss:0.13194\n",
      "[26]\tvalidation_0-mlogloss:0.12813\n",
      "[27]\tvalidation_0-mlogloss:0.12439\n",
      "[28]\tvalidation_0-mlogloss:0.12112\n",
      "[29]\tvalidation_0-mlogloss:0.11848\n",
      "[30]\tvalidation_0-mlogloss:0.11499\n",
      "[31]\tvalidation_0-mlogloss:0.11336\n",
      "[32]\tvalidation_0-mlogloss:0.11088\n",
      "[33]\tvalidation_0-mlogloss:0.10849\n",
      "[34]\tvalidation_0-mlogloss:0.10639\n",
      "[35]\tvalidation_0-mlogloss:0.10432\n",
      "[36]\tvalidation_0-mlogloss:0.10287\n",
      "[37]\tvalidation_0-mlogloss:0.10147\n",
      "[38]\tvalidation_0-mlogloss:0.09976\n",
      "[39]\tvalidation_0-mlogloss:0.09810\n",
      "[40]\tvalidation_0-mlogloss:0.09758\n",
      "[41]\tvalidation_0-mlogloss:0.09600\n",
      "[42]\tvalidation_0-mlogloss:0.09491\n",
      "[43]\tvalidation_0-mlogloss:0.09386\n",
      "[44]\tvalidation_0-mlogloss:0.09287\n",
      "[45]\tvalidation_0-mlogloss:0.09202\n",
      "[46]\tvalidation_0-mlogloss:0.09115\n",
      "[47]\tvalidation_0-mlogloss:0.09003\n",
      "[48]\tvalidation_0-mlogloss:0.08925\n",
      "[49]\tvalidation_0-mlogloss:0.08829\n",
      "[50]\tvalidation_0-mlogloss:0.08775\n",
      "[51]\tvalidation_0-mlogloss:0.08706\n",
      "[52]\tvalidation_0-mlogloss:0.08602\n",
      "[53]\tvalidation_0-mlogloss:0.08481\n",
      "[54]\tvalidation_0-mlogloss:0.08421\n",
      "[55]\tvalidation_0-mlogloss:0.08333\n",
      "[56]\tvalidation_0-mlogloss:0.08242\n",
      "[57]\tvalidation_0-mlogloss:0.08185\n",
      "[58]\tvalidation_0-mlogloss:0.08103\n",
      "[59]\tvalidation_0-mlogloss:0.08087\n",
      "[60]\tvalidation_0-mlogloss:0.08052\n",
      "[61]\tvalidation_0-mlogloss:0.07974\n",
      "[62]\tvalidation_0-mlogloss:0.07934\n",
      "[63]\tvalidation_0-mlogloss:0.07900\n",
      "[64]\tvalidation_0-mlogloss:0.07840\n",
      "[65]\tvalidation_0-mlogloss:0.07797\n",
      "[66]\tvalidation_0-mlogloss:0.07754\n",
      "[67]\tvalidation_0-mlogloss:0.07733\n",
      "[68]\tvalidation_0-mlogloss:0.07696\n",
      "[69]\tvalidation_0-mlogloss:0.07654\n",
      "[70]\tvalidation_0-mlogloss:0.07639\n",
      "[71]\tvalidation_0-mlogloss:0.07607\n",
      "[72]\tvalidation_0-mlogloss:0.07580\n",
      "[73]\tvalidation_0-mlogloss:0.07547\n",
      "[74]\tvalidation_0-mlogloss:0.07555\n",
      "[75]\tvalidation_0-mlogloss:0.07527\n",
      "[76]\tvalidation_0-mlogloss:0.07484\n",
      "[77]\tvalidation_0-mlogloss:0.07459\n",
      "[78]\tvalidation_0-mlogloss:0.07416\n",
      "[79]\tvalidation_0-mlogloss:0.07376\n",
      "[80]\tvalidation_0-mlogloss:0.07352\n",
      "[81]\tvalidation_0-mlogloss:0.07310\n",
      "[82]\tvalidation_0-mlogloss:0.07288\n",
      "[83]\tvalidation_0-mlogloss:0.07272\n",
      "[84]\tvalidation_0-mlogloss:0.07246\n",
      "[85]\tvalidation_0-mlogloss:0.07227\n",
      "[86]\tvalidation_0-mlogloss:0.07216\n",
      "[87]\tvalidation_0-mlogloss:0.07198\n",
      "[88]\tvalidation_0-mlogloss:0.07157\n",
      "[89]\tvalidation_0-mlogloss:0.07131\n",
      "[90]\tvalidation_0-mlogloss:0.07126\n",
      "[91]\tvalidation_0-mlogloss:0.07084\n",
      "[92]\tvalidation_0-mlogloss:0.07068\n",
      "[93]\tvalidation_0-mlogloss:0.07057\n",
      "[94]\tvalidation_0-mlogloss:0.07034\n",
      "[95]\tvalidation_0-mlogloss:0.07014\n",
      "[96]\tvalidation_0-mlogloss:0.07017\n",
      "[97]\tvalidation_0-mlogloss:0.07024\n",
      "[98]\tvalidation_0-mlogloss:0.07007\n",
      "[99]\tvalidation_0-mlogloss:0.06985\n",
      "\n",
      "Training Classification Report:\n",
      "\n",
      "               precision    recall  f1-score   support\n",
      "\n",
      "           0       1.00      1.00      1.00      5923\n",
      "           1       1.00      1.00      1.00      6742\n",
      "           2       1.00      1.00      1.00      5958\n",
      "           3       1.00      1.00      1.00      6131\n",
      "           4       1.00      1.00      1.00      5842\n",
      "           5       1.00      1.00      1.00      5421\n",
      "           6       1.00      1.00      1.00      5918\n",
      "           7       1.00      1.00      1.00      6265\n",
      "           8       1.00      1.00      1.00      5851\n",
      "           9       1.00      1.00      1.00      5949\n",
      "\n",
      "    accuracy                           1.00     60000\n",
      "   macro avg       1.00      1.00      1.00     60000\n",
      "weighted avg       1.00      1.00      1.00     60000\n",
      "\n",
      "\n",
      "Testing Classification Report:\n",
      "\n",
      "               precision    recall  f1-score   support\n",
      "\n",
      "           0       0.97      0.99      0.98       482\n",
      "           1       1.00      0.99      1.00       562\n",
      "           2       0.97      0.98      0.98       545\n",
      "           3       0.98      0.98      0.98       494\n",
      "           4       0.99      0.98      0.98       487\n",
      "           5       0.98      0.98      0.98       452\n",
      "           6       0.99      0.98      0.98       478\n",
      "           7       0.98      0.97      0.98       528\n",
      "           8       0.97      0.98      0.97       466\n",
      "           9       0.98      0.97      0.97       506\n",
      "\n",
      "    accuracy                           0.98      5000\n",
      "   macro avg       0.98      0.98      0.98      5000\n",
      "weighted avg       0.98      0.98      0.98      5000\n",
      "\n",
      "\n",
      "Testing Confusion Matrix:\n",
      "\n"
     ]
    },
    {
     "data": {
      "text/plain": [
       "<Figure size 432x288 with 0 Axes>"
      ]
     },
     "execution_count": 32,
     "metadata": {},
     "output_type": "execute_result"
    },
    {
     "data": {
      "image/png": "[encoded data removed]",
      "text/plain": [
       "<Figure size 432x288 with 2 Axes>"
      ]
     },
     "metadata": {
      "needs_background": "light"
     },
     "output_type": "display_data"
    },
    {
     "data": {
      "text/plain": [
       "<Figure size 432x288 with 0 Axes>"
      ]
     },
     "metadata": {},
     "output_type": "display_data"
    }
   ],
   "source": [
    "parameters = {'max_depth': [1, 5, 10, 100, None], 'reg_lambda': [0.001, 0.01, 0.1, 1, 10]}\n",
    "model = GridSearchCV(XGBClassifier(n_jobs = -1, eval_metric='mlogloss'), parameters, n_jobs = -1)\n",
    "\n",
    "# build the classifier\n",
    "model = XGBClassifier(n_jobs = -1)\n",
    "\n",
    "# fit the classifier to the training data\n",
    "model.fit(trainX, trainY, eval_set = [(valX, valY)])\n",
    "\n",
    "# predict the labels of the training set\n",
    "predictedY = model.predict(trainX)\n",
    "\n",
    "# print quality metrics\n",
    "print('\\nTraining Classification Report:\\n\\n', classification_report(trainY, predictedY))\n",
    "\n",
    "# predict the labels of the test set\n",
    "predictedY = model.predict(testX)\n",
    "\n",
    "# print quality metrics\n",
    "print('\\nTesting Classification Report:\\n\\n', classification_report(testY, predictedY))\n",
    "\n",
    "# predict the labels of the test set\n",
    "predictedY = model.predict(testX)\n",
    "\n",
    "print('\\nTesting Confusion Matrix:\\n')\n",
    "\n",
    "sn.heatmap(confusion_matrix(testY, predictedY))\n",
    "plt.figure()"
   ]
  },
  {
   "cell_type": "markdown",
   "id": "a67de930-b5af-466a-bc76-cdce4bdf95aa",
   "metadata": {},
   "source": [
    "So, we tried, but made no gains.\n",
    "\n",
    "### CIFAR10 Example"
   ]
  },
  {
   "cell_type": "code",
   "execution_count": 35,
   "id": "4cc9f1c1-3f12-4177-a7cf-6d857c79b888",
   "metadata": {},
   "outputs": [
    {
     "name": "stdout",
     "output_type": "stream",
     "text": [
      "[23:25:50] WARNING: C:/Users/Administrator/workspace/xgboost-win64_release_1.5.1/src/learner.cc:1115: Starting in XGBoost 1.3.0, the default evaluation metric used with the objective 'multi:softprob' was changed from 'merror' to 'mlogloss'. Explicitly set eval_metric if you'd like to restore the old behavior.\n",
      "[0]\tvalidation_0-mlogloss:2.13656\n",
      "[1]\tvalidation_0-mlogloss:2.03318\n",
      "[2]\tvalidation_0-mlogloss:1.95227\n",
      "[3]\tvalidation_0-mlogloss:1.89216\n",
      "[4]\tvalidation_0-mlogloss:1.83970\n",
      "[5]\tvalidation_0-mlogloss:1.79876\n",
      "[6]\tvalidation_0-mlogloss:1.76423\n",
      "[7]\tvalidation_0-mlogloss:1.73341\n",
      "[8]\tvalidation_0-mlogloss:1.70854\n",
      "[9]\tvalidation_0-mlogloss:1.68552\n",
      "[10]\tvalidation_0-mlogloss:1.66271\n",
      "[11]\tvalidation_0-mlogloss:1.64533\n",
      "[12]\tvalidation_0-mlogloss:1.62746\n",
      "[13]\tvalidation_0-mlogloss:1.61124\n",
      "[14]\tvalidation_0-mlogloss:1.59772\n",
      "[15]\tvalidation_0-mlogloss:1.58506\n",
      "[16]\tvalidation_0-mlogloss:1.57178\n",
      "[17]\tvalidation_0-mlogloss:1.56225\n",
      "[18]\tvalidation_0-mlogloss:1.55158\n",
      "[19]\tvalidation_0-mlogloss:1.54190\n",
      "[20]\tvalidation_0-mlogloss:1.53234\n",
      "[21]\tvalidation_0-mlogloss:1.52532\n",
      "[22]\tvalidation_0-mlogloss:1.51552\n",
      "[23]\tvalidation_0-mlogloss:1.50756\n",
      "[24]\tvalidation_0-mlogloss:1.50124\n",
      "[25]\tvalidation_0-mlogloss:1.49358\n",
      "[26]\tvalidation_0-mlogloss:1.48606\n",
      "[27]\tvalidation_0-mlogloss:1.47987\n",
      "[28]\tvalidation_0-mlogloss:1.47444\n",
      "[29]\tvalidation_0-mlogloss:1.47024\n",
      "[30]\tvalidation_0-mlogloss:1.46560\n",
      "[31]\tvalidation_0-mlogloss:1.45993\n",
      "[32]\tvalidation_0-mlogloss:1.45499\n",
      "[33]\tvalidation_0-mlogloss:1.44962\n",
      "[34]\tvalidation_0-mlogloss:1.44504\n",
      "[35]\tvalidation_0-mlogloss:1.44012\n",
      "[36]\tvalidation_0-mlogloss:1.43646\n",
      "[37]\tvalidation_0-mlogloss:1.43176\n",
      "[38]\tvalidation_0-mlogloss:1.42743\n",
      "[39]\tvalidation_0-mlogloss:1.42319\n",
      "[40]\tvalidation_0-mlogloss:1.42074\n",
      "[41]\tvalidation_0-mlogloss:1.41661\n",
      "[42]\tvalidation_0-mlogloss:1.41397\n",
      "[43]\tvalidation_0-mlogloss:1.41124\n",
      "[44]\tvalidation_0-mlogloss:1.40860\n",
      "[45]\tvalidation_0-mlogloss:1.40575\n",
      "[46]\tvalidation_0-mlogloss:1.40319\n",
      "[47]\tvalidation_0-mlogloss:1.40020\n",
      "[48]\tvalidation_0-mlogloss:1.39690\n",
      "[49]\tvalidation_0-mlogloss:1.39454\n",
      "[50]\tvalidation_0-mlogloss:1.39252\n",
      "[51]\tvalidation_0-mlogloss:1.39001\n",
      "[52]\tvalidation_0-mlogloss:1.38879\n",
      "[53]\tvalidation_0-mlogloss:1.38736\n",
      "[54]\tvalidation_0-mlogloss:1.38583\n",
      "[55]\tvalidation_0-mlogloss:1.38406\n",
      "[56]\tvalidation_0-mlogloss:1.38242\n",
      "[57]\tvalidation_0-mlogloss:1.38175\n",
      "[58]\tvalidation_0-mlogloss:1.37965\n",
      "[59]\tvalidation_0-mlogloss:1.37833\n",
      "[60]\tvalidation_0-mlogloss:1.37510\n",
      "[61]\tvalidation_0-mlogloss:1.37229\n",
      "[62]\tvalidation_0-mlogloss:1.36973\n",
      "[63]\tvalidation_0-mlogloss:1.36712\n",
      "[64]\tvalidation_0-mlogloss:1.36506\n",
      "[65]\tvalidation_0-mlogloss:1.36288\n",
      "[66]\tvalidation_0-mlogloss:1.36194\n",
      "[67]\tvalidation_0-mlogloss:1.36141\n",
      "[68]\tvalidation_0-mlogloss:1.35927\n",
      "[69]\tvalidation_0-mlogloss:1.35790\n",
      "[70]\tvalidation_0-mlogloss:1.35527\n",
      "[71]\tvalidation_0-mlogloss:1.35376\n",
      "[72]\tvalidation_0-mlogloss:1.35237\n",
      "[73]\tvalidation_0-mlogloss:1.35093\n",
      "[74]\tvalidation_0-mlogloss:1.34868\n",
      "[75]\tvalidation_0-mlogloss:1.34768\n",
      "[76]\tvalidation_0-mlogloss:1.34593\n",
      "[77]\tvalidation_0-mlogloss:1.34533\n",
      "[78]\tvalidation_0-mlogloss:1.34357\n",
      "[79]\tvalidation_0-mlogloss:1.34212\n",
      "[80]\tvalidation_0-mlogloss:1.34089\n",
      "[81]\tvalidation_0-mlogloss:1.34042\n",
      "[82]\tvalidation_0-mlogloss:1.33887\n",
      "[83]\tvalidation_0-mlogloss:1.33716\n",
      "[84]\tvalidation_0-mlogloss:1.33552\n",
      "[85]\tvalidation_0-mlogloss:1.33460\n",
      "[86]\tvalidation_0-mlogloss:1.33332\n",
      "[87]\tvalidation_0-mlogloss:1.33187\n",
      "[88]\tvalidation_0-mlogloss:1.33094\n",
      "[89]\tvalidation_0-mlogloss:1.32988\n",
      "[90]\tvalidation_0-mlogloss:1.32816\n",
      "[91]\tvalidation_0-mlogloss:1.32700\n",
      "[92]\tvalidation_0-mlogloss:1.32498\n",
      "[93]\tvalidation_0-mlogloss:1.32427\n",
      "[94]\tvalidation_0-mlogloss:1.32327\n",
      "[95]\tvalidation_0-mlogloss:1.32249\n",
      "[96]\tvalidation_0-mlogloss:1.32137\n",
      "[97]\tvalidation_0-mlogloss:1.32094\n",
      "[98]\tvalidation_0-mlogloss:1.31957\n",
      "[99]\tvalidation_0-mlogloss:1.31817\n",
      "\n",
      "Training Classification Report:\n",
      "\n",
      "               precision    recall  f1-score   support\n",
      "\n",
      "           0       0.98      0.99      0.98      5000\n",
      "           1       1.00      1.00      1.00      5000\n",
      "           2       0.97      0.98      0.97      5000\n",
      "           3       0.99      0.97      0.98      5000\n",
      "           4       0.96      0.98      0.97      5000\n",
      "           5       0.99      0.98      0.99      5000\n",
      "           6       0.98      0.99      0.99      5000\n",
      "           7       1.00      0.99      0.99      5000\n",
      "           8       0.99      0.99      0.99      5000\n",
      "           9       1.00      0.99      1.00      5000\n",
      "\n",
      "    accuracy                           0.99     50000\n",
      "   macro avg       0.99      0.99      0.99     50000\n",
      "weighted avg       0.99      0.99      0.99     50000\n",
      "\n",
      "\n",
      "Testing Classification Report:\n",
      "\n",
      "               precision    recall  f1-score   support\n",
      "\n",
      "           0       0.63      0.60      0.62       504\n",
      "           1       0.65      0.64      0.65       474\n",
      "           2       0.45      0.41      0.43       506\n",
      "           3       0.41      0.42      0.41       500\n",
      "           4       0.46      0.43      0.44       508\n",
      "           5       0.48      0.49      0.49       510\n",
      "           6       0.56      0.62      0.59       533\n",
      "           7       0.60      0.57      0.59       484\n",
      "           8       0.65      0.66      0.66       533\n",
      "           9       0.59      0.64      0.61       448\n",
      "\n",
      "    accuracy                           0.55      5000\n",
      "   macro avg       0.55      0.55      0.55      5000\n",
      "weighted avg       0.55      0.55      0.55      5000\n",
      "\n",
      "\n",
      "Testing Confusion Matrix:\n",
      "\n"
     ]
    },
    {
     "data": {
      "text/plain": [
       "<Figure size 432x288 with 0 Axes>"
      ]
     },
     "execution_count": 35,
     "metadata": {},
     "output_type": "execute_result"
    },
    {
     "data": {
      "image/png": "[encoded data removed]",
      "text/plain": [
       "<Figure size 432x288 with 2 Axes>"
      ]
     },
     "metadata": {
      "needs_background": "light"
     },
     "output_type": "display_data"
    },
    {
     "data": {
      "text/plain": [
       "<Figure size 432x288 with 0 Axes>"
      ]
     },
     "metadata": {},
     "output_type": "display_data"
    }
   ],
   "source": [
    "(trainX, trainY), (testX, testY) = cifar10.load_data()\n",
    "\n",
    "# preprocess the data\n",
    "trainX = trainX.reshape(trainX.shape[0], trainX.shape[1] * trainX.shape[2] * 3)\n",
    "trainX = trainX.astype('float')/255.0\n",
    "\n",
    "testX = testX.reshape(testX.shape[0], testX.shape[1] * testX.shape[2] * 3)\n",
    "testX = testX.astype('float')/255.0\n",
    "\n",
    "valX, testX, valY, testY = train_test_split(testX, testY, test_size = 0.5)\n",
    "\n",
    "# build the classifier\n",
    "model = XGBClassifier(n_jobs = -1)\n",
    "\n",
    "# fit the classifier to the training data\n",
    "model.fit(trainX, trainY.ravel(), eval_set = [(valX, valY.ravel())])\n",
    "\n",
    "# predict the labels of the training set\n",
    "predictedY = model.predict(trainX)\n",
    "\n",
    "# print quality metrics\n",
    "print('\\nTraining Classification Report:\\n\\n', classification_report(trainY, predictedY))\n",
    "\n",
    "# predict the labels of the test set\n",
    "predictedY = model.predict(testX)\n",
    "\n",
    "# print quality metrics\n",
    "print('\\nTesting Classification Report:\\n\\n', classification_report(testY, predictedY))\n",
    "\n",
    "# predict the labels of the test set\n",
    "predictedY = model.predict(testX)\n",
    "\n",
    "print('\\nTesting Confusion Matrix:\\n')\n",
    "\n",
    "sn.heatmap(confusion_matrix(testY, predictedY))\n",
    "plt.figure()"
   ]
  },
  {
   "cell_type": "code",
   "execution_count": 37,
   "id": "8c8a5515-d095-4e7a-803a-0cd527223c39",
   "metadata": {},
   "outputs": [
    {
     "name": "stdout",
     "output_type": "stream",
     "text": [
      "[23:30:51] WARNING: C:/Users/Administrator/workspace/xgboost-win64_release_1.5.1/src/learner.cc:1115: Starting in XGBoost 1.3.0, the default evaluation metric used with the objective 'multi:softprob' was changed from 'merror' to 'mlogloss'. Explicitly set eval_metric if you'd like to restore the old behavior.\n",
      "[0]\tvalidation_0-mlogloss:2.13656\n",
      "[1]\tvalidation_0-mlogloss:2.03318\n",
      "[2]\tvalidation_0-mlogloss:1.95227\n",
      "[3]\tvalidation_0-mlogloss:1.89216\n",
      "[4]\tvalidation_0-mlogloss:1.83970\n",
      "[5]\tvalidation_0-mlogloss:1.79876\n",
      "[6]\tvalidation_0-mlogloss:1.76423\n",
      "[7]\tvalidation_0-mlogloss:1.73341\n",
      "[8]\tvalidation_0-mlogloss:1.70854\n",
      "[9]\tvalidation_0-mlogloss:1.68552\n",
      "[10]\tvalidation_0-mlogloss:1.66271\n",
      "[11]\tvalidation_0-mlogloss:1.64533\n",
      "[12]\tvalidation_0-mlogloss:1.62746\n",
      "[13]\tvalidation_0-mlogloss:1.61124\n",
      "[14]\tvalidation_0-mlogloss:1.59772\n",
      "[15]\tvalidation_0-mlogloss:1.58506\n",
      "[16]\tvalidation_0-mlogloss:1.57178\n",
      "[17]\tvalidation_0-mlogloss:1.56225\n",
      "[18]\tvalidation_0-mlogloss:1.55158\n",
      "[19]\tvalidation_0-mlogloss:1.54190\n",
      "[20]\tvalidation_0-mlogloss:1.53234\n",
      "[21]\tvalidation_0-mlogloss:1.52532\n",
      "[22]\tvalidation_0-mlogloss:1.51552\n",
      "[23]\tvalidation_0-mlogloss:1.50756\n",
      "[24]\tvalidation_0-mlogloss:1.50124\n",
      "[25]\tvalidation_0-mlogloss:1.49358\n",
      "[26]\tvalidation_0-mlogloss:1.48606\n",
      "[27]\tvalidation_0-mlogloss:1.47987\n",
      "[28]\tvalidation_0-mlogloss:1.47444\n",
      "[29]\tvalidation_0-mlogloss:1.47024\n",
      "[30]\tvalidation_0-mlogloss:1.46560\n",
      "[31]\tvalidation_0-mlogloss:1.45993\n",
      "[32]\tvalidation_0-mlogloss:1.45499\n",
      "[33]\tvalidation_0-mlogloss:1.44962\n",
      "[34]\tvalidation_0-mlogloss:1.44504\n",
      "[35]\tvalidation_0-mlogloss:1.44012\n",
      "[36]\tvalidation_0-mlogloss:1.43646\n",
      "[37]\tvalidation_0-mlogloss:1.43176\n",
      "[38]\tvalidation_0-mlogloss:1.42743\n",
      "[39]\tvalidation_0-mlogloss:1.42319\n",
      "[40]\tvalidation_0-mlogloss:1.42074\n",
      "[41]\tvalidation_0-mlogloss:1.41661\n",
      "[42]\tvalidation_0-mlogloss:1.41397\n",
      "[43]\tvalidation_0-mlogloss:1.41124\n",
      "[44]\tvalidation_0-mlogloss:1.40860\n",
      "[45]\tvalidation_0-mlogloss:1.40575\n",
      "[46]\tvalidation_0-mlogloss:1.40319\n",
      "[47]\tvalidation_0-mlogloss:1.40020\n",
      "[48]\tvalidation_0-mlogloss:1.39690\n",
      "[49]\tvalidation_0-mlogloss:1.39454\n",
      "[50]\tvalidation_0-mlogloss:1.39252\n",
      "[51]\tvalidation_0-mlogloss:1.39001\n",
      "[52]\tvalidation_0-mlogloss:1.38879\n",
      "[53]\tvalidation_0-mlogloss:1.38736\n",
      "[54]\tvalidation_0-mlogloss:1.38583\n",
      "[55]\tvalidation_0-mlogloss:1.38406\n",
      "[56]\tvalidation_0-mlogloss:1.38242\n",
      "[57]\tvalidation_0-mlogloss:1.38175\n",
      "[58]\tvalidation_0-mlogloss:1.37965\n",
      "[59]\tvalidation_0-mlogloss:1.37833\n",
      "[60]\tvalidation_0-mlogloss:1.37510\n",
      "[61]\tvalidation_0-mlogloss:1.37229\n",
      "[62]\tvalidation_0-mlogloss:1.36973\n",
      "[63]\tvalidation_0-mlogloss:1.36712\n",
      "[64]\tvalidation_0-mlogloss:1.36506\n",
      "[65]\tvalidation_0-mlogloss:1.36288\n",
      "[66]\tvalidation_0-mlogloss:1.36194\n",
      "[67]\tvalidation_0-mlogloss:1.36141\n",
      "[68]\tvalidation_0-mlogloss:1.35927\n",
      "[69]\tvalidation_0-mlogloss:1.35790\n",
      "[70]\tvalidation_0-mlogloss:1.35527\n",
      "[71]\tvalidation_0-mlogloss:1.35376\n",
      "[72]\tvalidation_0-mlogloss:1.35237\n",
      "[73]\tvalidation_0-mlogloss:1.35093\n",
      "[74]\tvalidation_0-mlogloss:1.34868\n",
      "[75]\tvalidation_0-mlogloss:1.34768\n",
      "[76]\tvalidation_0-mlogloss:1.34593\n",
      "[77]\tvalidation_0-mlogloss:1.34533\n",
      "[78]\tvalidation_0-mlogloss:1.34357\n",
      "[79]\tvalidation_0-mlogloss:1.34212\n",
      "[80]\tvalidation_0-mlogloss:1.34089\n",
      "[81]\tvalidation_0-mlogloss:1.34042\n",
      "[82]\tvalidation_0-mlogloss:1.33887\n",
      "[83]\tvalidation_0-mlogloss:1.33716\n",
      "[84]\tvalidation_0-mlogloss:1.33552\n",
      "[85]\tvalidation_0-mlogloss:1.33460\n",
      "[86]\tvalidation_0-mlogloss:1.33332\n",
      "[87]\tvalidation_0-mlogloss:1.33187\n",
      "[88]\tvalidation_0-mlogloss:1.33094\n",
      "[89]\tvalidation_0-mlogloss:1.32988\n",
      "[90]\tvalidation_0-mlogloss:1.32816\n",
      "[91]\tvalidation_0-mlogloss:1.32700\n",
      "[92]\tvalidation_0-mlogloss:1.32498\n",
      "[93]\tvalidation_0-mlogloss:1.32427\n",
      "[94]\tvalidation_0-mlogloss:1.32327\n",
      "[95]\tvalidation_0-mlogloss:1.32249\n",
      "[96]\tvalidation_0-mlogloss:1.32137\n",
      "[97]\tvalidation_0-mlogloss:1.32094\n",
      "[98]\tvalidation_0-mlogloss:1.31957\n",
      "[99]\tvalidation_0-mlogloss:1.31817\n",
      "\n",
      "Training Classification Report:\n",
      "\n",
      "               precision    recall  f1-score   support\n",
      "\n",
      "           0       0.98      0.99      0.98      5000\n",
      "           1       1.00      1.00      1.00      5000\n",
      "           2       0.97      0.98      0.97      5000\n",
      "           3       0.99      0.97      0.98      5000\n",
      "           4       0.96      0.98      0.97      5000\n",
      "           5       0.99      0.98      0.99      5000\n",
      "           6       0.98      0.99      0.99      5000\n",
      "           7       1.00      0.99      0.99      5000\n",
      "           8       0.99      0.99      0.99      5000\n",
      "           9       1.00      0.99      1.00      5000\n",
      "\n",
      "    accuracy                           0.99     50000\n",
      "   macro avg       0.99      0.99      0.99     50000\n",
      "weighted avg       0.99      0.99      0.99     50000\n",
      "\n",
      "\n",
      "Testing Classification Report:\n",
      "\n",
      "               precision    recall  f1-score   support\n",
      "\n",
      "           0       0.63      0.60      0.62       504\n",
      "           1       0.65      0.64      0.65       474\n",
      "           2       0.45      0.41      0.43       506\n",
      "           3       0.41      0.42      0.41       500\n",
      "           4       0.46      0.43      0.44       508\n",
      "           5       0.48      0.49      0.49       510\n",
      "           6       0.56      0.62      0.59       533\n",
      "           7       0.60      0.57      0.59       484\n",
      "           8       0.65      0.66      0.66       533\n",
      "           9       0.59      0.64      0.61       448\n",
      "\n",
      "    accuracy                           0.55      5000\n",
      "   macro avg       0.55      0.55      0.55      5000\n",
      "weighted avg       0.55      0.55      0.55      5000\n",
      "\n",
      "\n",
      "Testing Confusion Matrix:\n",
      "\n"
     ]
    },
    {
     "data": {
      "text/plain": [
       "<Figure size 432x288 with 0 Axes>"
      ]
     },
     "execution_count": 37,
     "metadata": {},
     "output_type": "execute_result"
    },
    {
     "data": {
      "image/png": "[encoded data removed]",
      "text/plain": [
       "<Figure size 432x288 with 2 Axes>"
      ]
     },
     "metadata": {
      "needs_background": "light"
     },
     "output_type": "display_data"
    },
    {
     "data": {
      "text/plain": [
       "<Figure size 432x288 with 0 Axes>"
      ]
     },
     "metadata": {},
     "output_type": "display_data"
    }
   ],
   "source": [
    "parameters = {'max_depth': [1, 5, 10, 100, None], 'reg_lambda': [0.001, 0.01, 0.1, 1, 10]}\n",
    "\n",
    "model = GridSearchCV(XGBClassifier(n_jobs = -1, eval_metric='mlogloss'), parameters, n_jobs = -1)\n",
    "\n",
    "# build the classifier\n",
    "model = XGBClassifier(n_jobs = -1)\n",
    "\n",
    "# fit the classifier to the training data\n",
    "model.fit(trainX, trainY.ravel(), eval_set = [(valX, valY.ravel())])\n",
    "\n",
    "# predict the labels of the training set\n",
    "predictedY = model.predict(trainX)\n",
    "\n",
    "# print quality metrics\n",
    "print('\\nTraining Classification Report:\\n\\n', classification_report(trainY, predictedY))\n",
    "\n",
    "# predict the labels of the test set\n",
    "predictedY = model.predict(testX)\n",
    "\n",
    "# print quality metrics\n",
    "print('\\nTesting Classification Report:\\n\\n', classification_report(testY, predictedY))\n",
    "\n",
    "# predict the labels of the test set\n",
    "predictedY = model.predict(testX)\n",
    "\n",
    "print('\\nTesting Confusion Matrix:\\n')\n",
    "\n",
    "sn.heatmap(confusion_matrix(testY, predictedY))\n",
    "plt.figure()"
   ]
  }
 ],
 "metadata": {
  "kernelspec": {
   "display_name": "Python 3 (ipykernel)",
   "language": "python",
   "name": "python3"
  },
  "language_info": {
   "codemirror_mode": {
    "name": "ipython",
    "version": 3
   },
   "file_extension": ".py",
   "mimetype": "text/x-python",
   "name": "python",
   "nbconvert_exporter": "python",
   "pygments_lexer": "ipython3",
   "version": "3.10.9"
  }
 },
 "nbformat": 4,
 "nbformat_minor": 5
}
